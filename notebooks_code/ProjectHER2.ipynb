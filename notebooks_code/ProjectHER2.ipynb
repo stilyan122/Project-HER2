{
 "cells": [
  {
   "cell_type": "code",
   "execution_count": 1,
   "id": "77e451fe-6a21-4316-ba57-3ddd75606d3d",
   "metadata": {},
   "outputs": [],
   "source": [
    "import pandas as pd\n",
    "import numpy as np\n",
    "import sys\n",
    "\n",
    "sys.path.insert(1, \"..\")\n",
    "\n",
    "import utils as u\n",
    "import eda as e\n",
    "import stats as s\n",
    "\n",
    "pd.set_option(\"mode.chained_assignment\", None)"
   ]
  },
  {
   "cell_type": "markdown",
   "id": "32eb1340-486e-4e3a-ae9e-4865fb9e7d60",
   "metadata": {},
   "source": [
    "# Project HER2"
   ]
  },
  {
   "cell_type": "markdown",
   "id": "bfbe0ea5-1a45-4c43-969f-4a1c0d39a839",
   "metadata": {},
   "source": [
    "## Created by Stilyan Chanev"
   ]
  },
  {
   "cell_type": "markdown",
   "id": "52e20af9-19fb-4c16-b4a8-79a82c40d9e7",
   "metadata": {},
   "source": [
    "## Project Idea: Integrate breast cancer molecular subtype data with drug response profiles"
   ]
  },
  {
   "cell_type": "markdown",
   "id": "0398e000-a696-4ba9-ace2-24fed1700aec",
   "metadata": {},
   "source": [
    "### Hypothesis: HER2-positive tumors have higher HER2 pathway activity, and HER2-targeted (or closely related) drugs reduce cancer cell viability more than non-targeted agents."
   ]
  },
  {
   "cell_type": "markdown",
   "id": "bd9e65f2-7733-4a00-ba8b-d514cfaee2f2",
   "metadata": {},
   "source": [
    "### Objective: Compare HER2 pathway activation between HER2-positive and -negative tumors and evaluate whether that activation aligns with stronger drug efficacy in corresponding targeted treatments."
   ]
  },
  {
   "cell_type": "markdown",
   "id": "d3c33c87-0cb0-4e4f-bcf7-9d653e805901",
   "metadata": {},
   "source": [
    "## Abstract"
   ]
  },
  {
   "cell_type": "markdown",
   "id": "a929a3d0-25e2-414f-a48b-96e7bf8919f5",
   "metadata": {},
   "source": [
    "<p style=\"font-size:18px;\"> HER2-positive breast cancer is driven by ERBB2 signaling and is clinically actionable; we analyze two curated datasets to test whether (i) higher HER2 pathway activity relates to survival, (ii) HER2-targeted drugs reduce in-vitro viability more than non-targeted agents, and (iii) clinical HER2 status aligns with pathway activation. Using a median split of pp_HER2, vital status differed between High and Low groups ($\\chi$^2 p=0.040; Fisher p=0.031), with lower death odds in the High group (OR=0.55; deaths 9.1% vs 15.4%). Pooled across doses, HER2-targeted inhibitors exhibit markedly lower viability distributions than comparators, consistent with greater potency. Finally, HER2-positive tumors show higher pathway activity than HER2-negative tumors, with median pp_HER2 1.881 vs −0.154. Together, these nonparametric results - robust to skew and ties - support biological coherence across label, signaling, and function: HER2 positivity tracks elevated phospho-HER2 signaling, and HER2-directed agents more strongly suppress cell viability, mirroring clinical experience with HER2-targeted therapy. </p>"
   ]
  },
  {
   "cell_type": "markdown",
   "id": "578b6804-dfb1-4a95-a13e-c9dedfeef7e7",
   "metadata": {},
   "source": [
    "## 1. Introduction, Ideas and Background of the Project"
   ]
  },
  {
   "cell_type": "markdown",
   "id": "9e8e627a-6afb-4f2c-b288-a2840f3257a4",
   "metadata": {},
   "source": [
    "### 1.1. Main Ideas and Aims"
   ]
  },
  {
   "cell_type": "markdown",
   "id": "0d3c83e7-ff99-4676-84d2-ba055e2b0626",
   "metadata": {},
   "source": [
    "<p style=\"font-size:18px;\"> ProjectHER2 is a natural evolution of my earlier work in ProjectDNA, where I explored mutation models (Jukes-Cantor and Markov chains) to understand how biological sequences change and propagate information. In that project the focus was on modeling and quantifying uncertainty in genetic data; here, I take the next step downstream and ask how molecular identity - specifically a clinically used label, HER2-positive breast cancer - is reflected in real biological signal and whether that signal predicts functional response to therapy. In other words, if the genome and proteome encode a subtype, does the treatment landscape behave as theory and biology would suggest? </p>"
   ]
  },
  {
   "cell_type": "markdown",
   "id": "b8882469-ee68-451f-9ecd-285093c4d269",
   "metadata": {},
   "source": [
    "<p style=\"font-size:18px;\"> The core idea is to connect two independent data worlds: patient-derived molecular profiles (showing pathway activation and subtype labels) and in vitro drug sensitivity measurements. I test whether the HER2-positive phenotype corresponds to elevated HER2 pathway activity and whether drugs targeting that axis (or close biological proxies) result in stronger reductions in cancer cell viability. This project is about alignment - between label, underlying biology, and therapeutic effect - and demonstrates the data science pipeline from molecular signal to actionable insight, explaining the precision-medicine philosophy: use what the tumor \"says\" to choose what should be done. Cells won't stop fascinating me! ;) </p>"
   ]
  },
  {
   "cell_type": "markdown",
   "id": "3238ebc5-924b-4c35-ab45-b7f8ad2a6a0a",
   "metadata": {},
   "source": [
    "![Human cell](../images/HumanCell.jpg)"
   ]
  },
  {
   "cell_type": "markdown",
   "id": "5a434fbe-d75e-47f4-8b7e-1c909495e624",
   "metadata": {},
   "source": [
    "### 1.2. Biological Background"
   ]
  },
  {
   "cell_type": "markdown",
   "id": "d7524056-beee-4477-8950-fd664220a5e9",
   "metadata": {},
   "source": [
    "<p style=\"font-size:18px;\"> This project builds upon the biological foundations established in ProjectDNA, where core concepts such as cells, DNA, genes, the genome, and the nature of mutations were introduced in detail. For the purposes of ProjectHER2, we focus on how these molecular principles connect to breast cancer biology and targeted therapy. </p>"
   ]
  },
  {
   "cell_type": "markdown",
   "id": "706017da-d9f8-4ab1-90cc-c492993f71e7",
   "metadata": {},
   "source": [
    "#### 1.2.1. HER2"
   ]
  },
  {
   "cell_type": "markdown",
   "id": "a47642b2-3bf6-4dae-b735-055f81aa9746",
   "metadata": {},
   "source": [
    "<p style=\"font-size:18px;\"> HER2 (human epidermal growth factor receptor 2) is a protein that plays a key role in regulating cell growth and division. In some breast cancers, the HER2 gene is amplified or overexpressed, leading to abnormally high levels of HER2 protein on the tumor cell surface. This \"HER2-positive\" status drives more aggressive tumor growth but also creates a therapeutic opportunity - drugs targeting the HER2 pathway can inhibit this signaling and reduce tumor viability. The biological insight that HER2 can drive cancer led directly to targeted therapies and dramatically better outcomes for HER2-positive patients. Clinically, this went from concept to survival gains in randomized trials. Adding tucatinib (a selective HER2 TKI) to trastuzumab/capecitabine improved progression-free and overall survival in HER2CLIMB; lapatinib plus capecitabine improved outcomes versus capecitabine alone in trastuzumab-pretreated disease - clear proof that shutting down HER2 signaling helps patients. </p>"
   ]
  },
  {
   "cell_type": "markdown",
   "id": "fb406c14-043f-41e9-ac50-cc4eff83d02e",
   "metadata": {},
   "source": [
    "![HER2](../images/HER2.jpg)"
   ]
  },
  {
   "cell_type": "markdown",
   "id": "cfebea47-47de-46de-93e7-955ac5aa67b2",
   "metadata": {},
   "source": [
    "#### 1.2.2. ER and PR"
   ]
  },
  {
   "cell_type": "markdown",
   "id": "b5854efa-170a-405f-aa66-acf825b1a25b",
   "metadata": {},
   "source": [
    "<p style=\"font-size:18px;\"> Two additional hormone receptors - estrogen receptor (ER - proteins found in cells that act as receptors for the hormone estrogen) and progesterone receptor (PR - proteins that bind to the hormone progesterone, triggering changes within cells) - are often assessed in breast cancer. Together, HER2, ER, and PR status define key molecular subtypes that influence prognosis and treatment choices. </p>"
   ]
  },
  {
   "cell_type": "markdown",
   "id": "2fb97a15-c404-41ec-88c9-e67fa55d8436",
   "metadata": {},
   "source": [
    "![ER](../images/ER.jpg)"
   ]
  },
  {
   "cell_type": "markdown",
   "id": "7326f86d-6969-49c3-8038-793d9eb55842",
   "metadata": {},
   "source": [
    "![PR](../images/PR.jpg)"
   ]
  },
  {
   "cell_type": "markdown",
   "id": "273710d5-3d82-40cc-9213-0fd86c226d1d",
   "metadata": {},
   "source": [
    "#### 1.2.3. pp_HER2"
   ]
  },
  {
   "cell_type": "markdown",
   "id": "2a33755e-6d87-4790-84f5-8137623a3669",
   "metadata": {},
   "source": [
    "<p style=\"font-size:18px;\"> HER2 pathway activity can be measured at the protein level, including its phosphorylated form (pp_HER2), which reflects receptor activation. In ProjectHER2, pp_HER2 serves as the primary molecular readout for pathway activation, and its relationship to HER2 status, survival outcomes, and drug response is central to our analysis. </p>"
   ]
  },
  {
   "cell_type": "markdown",
   "id": "3e9b29e0-f8d8-4f26-a8b6-ae2dfead2142",
   "metadata": {},
   "source": [
    "![Phosphorylation](../images/Phosphorylation.jpg)"
   ]
  },
  {
   "cell_type": "markdown",
   "id": "861da77e-6c0d-4e5e-9907-d101bb3bf8b6",
   "metadata": {},
   "source": [
    "#### 1.2.4. Breast Cancer"
   ]
  },
  {
   "cell_type": "markdown",
   "id": "a1f65a5b-c21e-4fcf-a47a-a4c910889377",
   "metadata": {},
   "source": [
    "<p style=\"font-size:18px;\"> Breast cancer begins when epithelial cells in the breast acquire alterations that allow uncontrolled growth and invasion. In practice, tumors are stratified by receptor biology - estrogen receptor (ER), progesterone receptor (PR), and HER2 - because these markers drive behavior and guide therapy. Patient-facing and clinical sources summarize the spectrum of symptoms, risk factors, staging, and multimodality care across surgery, radiation, endocrine therapy, chemotherapy, and targeted agents, framing why subtype matters for prognosis and treatment choice. </p>"
   ]
  },
  {
   "cell_type": "markdown",
   "id": "03340215-7803-46f5-baee-92735459285f",
   "metadata": {},
   "source": [
    "![Breast Cancer](../images/BreastCancer.jpg)"
   ]
  },
  {
   "cell_type": "markdown",
   "id": "d50a22ab-1302-49f5-9898-f6e9ec14ff65",
   "metadata": {},
   "source": [
    "#### 1.2.5. HER2 Pathway Activity"
   ]
  },
  {
   "cell_type": "markdown",
   "id": "ff07b32a-f5dd-4d51-b586-5dbb13b7243d",
   "metadata": {},
   "source": [
    "<p style=\"font-size:18px;\"> Signal transduction through HER2 is phosphorylation-driven. A well-studied activation site is Tyr1248 (Y1248) on the HER2 cytoplasmic tail; phosphorylation at Y1248 (pY1248) tracks receptor activation and propagates downstream signals. Prior proteomic studies show elevated pHER2(Y1248) in HER2-driven contexts and link phospho-HER2 measurements to disease biology and outcome, reinforcing the idea that phospho-status captures activity, not just expression. In our data, pp_HER2 (and when present a pY1248-specific readout) serve as pathway-activity proxies. </p>"
   ]
  },
  {
   "cell_type": "markdown",
   "id": "e62b113f-b898-498d-af37-67954c535e5c",
   "metadata": {},
   "source": [
    "![HER2 Pathway Activity](../images/Pathway.jpg)"
   ]
  },
  {
   "cell_type": "markdown",
   "id": "17510f9b-7119-49af-847c-b654b713d3b0",
   "metadata": {},
   "source": [
    "#### 1.2.6. Viability"
   ]
  },
  {
   "cell_type": "markdown",
   "id": "83c827d4-ebb8-4bbc-a09b-c4c7a8852ad2",
   "metadata": {},
   "source": [
    "<p style=\"font-size:18px;\"> To quantify drug effects in cell culture, high-throughput viability assays measure metabolically active/ATP-rich cells after treatment. A widely used method, CellTiter-Glo, reads cellular ATP via a luciferase reaction - more luminescence means more viable cells. Readouts are normalized to untreated controls to produce a fraction (0-1 or 0-100%) of surviving cells. Lower viability implies stronger growth inhibition, enabling dose–response curves and potency metrics like $IC_{50}$ (the concentration that reduces response to 50%). We leverage both pooled viability distributions and a simple \"fraction < 50% viability\" descriptor to summarize potency across doses, aligning with pharmacology guidance for concentration-response analysis. </p>"
   ]
  },
  {
   "cell_type": "markdown",
   "id": "799c1ae2-b533-4538-add7-79200808e5c6",
   "metadata": {},
   "source": [
    "## 2. Data Description"
   ]
  },
  {
   "cell_type": "markdown",
   "id": "e779bbb3-bf3d-416d-8221-60380b460f00",
   "metadata": {},
   "source": [
    "### 2.1. Datasets Overview"
   ]
  },
  {
   "cell_type": "markdown",
   "id": "4804cdc7-0fa7-4c4a-808d-8946d1452f53",
   "metadata": {},
   "source": [
    "<p style=\"font-size:18px;\"> This project uses two independent CSV datasets that are connected via biological meaning. **Mutations / Proteomic Profile Data (`mutations.csv`)** shows patient-derived breast cancer samples with clinical subtype labels (like HER2 status, ER/PR status, histological type, survival) and quantitative pathway activity measurements. This dataset comes from The Cancer Genome Atlas (TCGA) breast cancer (BRCA) cohort, repackaged on Kaggle. Key features for this project are `HER2.Final.Status` and HER2 pathway activation proxies like `pp_HER2` and `pp_HER2.pY1248`. **Drug Sensitivity Data (`drug-sensitivity.csv`)** displays in vitro viability measurements of cancer cell lines after treatment with various drugs. This dataset comes from the Genomics of Drug Sensitivity in Cancer (GDSC) project, specifically the Sanger GDSC1 & GDSC2 screens, accessed via DepMap. Important columns are `DRUG_NAME`, `dose`, and `viability` (survival fraction), which allow comparison of targeted versus non-targeted drug effects. </p>"
   ]
  },
  {
   "cell_type": "markdown",
   "id": "01cbfd02-4144-4567-84b3-7cf1fb766cd4",
   "metadata": {},
   "source": [
    "### 2.2. Loading and Initial Inspection"
   ]
  },
  {
   "cell_type": "markdown",
   "id": "8181f4c6-f172-4cb4-acac-88271cc013fa",
   "metadata": {},
   "source": [
    "<p style=\"font-size:18px;\"> Now I present the data loading step in code.<br>\n",
    "The function <code>load_data()</code> takes: </p>\n",
    "<ul>\n",
    "  <li><b>data_dir</b> – path to the folder containing <code>mutations.csv</code> and <code>drug-sensitivity.csv</code>.</li>\n",
    "</ul>"
   ]
  },
  {
   "cell_type": "code",
   "execution_count": 2,
   "id": "45bb664c-d79c-49d8-b9d0-bdda1bc69a53",
   "metadata": {},
   "outputs": [],
   "source": [
    "mutations_data, drug_sensitivity_data = u.load_data(\"../data\")"
   ]
  },
  {
   "cell_type": "markdown",
   "id": "3871df42-3465-4fee-924e-2612acf03305",
   "metadata": {},
   "source": [
    "<p style=\"font-size:18px;\"> Let's begin with the size of the data we have here. </p>"
   ]
  },
  {
   "cell_type": "code",
   "execution_count": 3,
   "id": "be479cf1-2555-48b7-bb22-381f9796dcc4",
   "metadata": {},
   "outputs": [
    {
     "name": "stdout",
     "output_type": "stream",
     "text": [
      "Mutations data shape: (705, 1941)\n",
      "Drug sensitivity data shape: (4049857, 8)\n"
     ]
    }
   ],
   "source": [
    "print(\"Mutations data shape:\", mutations_data.shape)\n",
    "print(\"Drug sensitivity data shape:\", drug_sensitivity_data.shape)"
   ]
  },
  {
   "cell_type": "code",
   "execution_count": 4,
   "id": "5096a5e8-706e-4b34-977a-cd1a429214a3",
   "metadata": {},
   "outputs": [
    {
     "data": {
      "text/html": [
       "<div>\n",
       "<style scoped>\n",
       "    .dataframe tbody tr th:only-of-type {\n",
       "        vertical-align: middle;\n",
       "    }\n",
       "\n",
       "    .dataframe tbody tr th {\n",
       "        vertical-align: top;\n",
       "    }\n",
       "\n",
       "    .dataframe thead th {\n",
       "        text-align: right;\n",
       "    }\n",
       "</style>\n",
       "<table border=\"1\" class=\"dataframe\">\n",
       "  <thead>\n",
       "    <tr style=\"text-align: right;\">\n",
       "      <th></th>\n",
       "      <th>rs_CLEC3A</th>\n",
       "      <th>rs_CPB1</th>\n",
       "      <th>rs_SCGB2A2</th>\n",
       "      <th>rs_SCGB1D2</th>\n",
       "      <th>rs_TFF1</th>\n",
       "      <th>rs_MUCL1</th>\n",
       "      <th>rs_GSTM1</th>\n",
       "      <th>rs_PIP</th>\n",
       "      <th>rs_ADIPOQ</th>\n",
       "      <th>rs_ADH1B</th>\n",
       "      <th>...</th>\n",
       "      <th>pp_p62.LCK.ligand</th>\n",
       "      <th>pp_p70S6K</th>\n",
       "      <th>pp_p70S6K.pT389</th>\n",
       "      <th>pp_p90RSK</th>\n",
       "      <th>pp_p90RSK.pT359.S363</th>\n",
       "      <th>vital.status</th>\n",
       "      <th>PR.Status</th>\n",
       "      <th>ER.Status</th>\n",
       "      <th>HER2.Final.Status</th>\n",
       "      <th>histological.type</th>\n",
       "    </tr>\n",
       "  </thead>\n",
       "  <tbody>\n",
       "    <tr>\n",
       "      <th>0</th>\n",
       "      <td>0.892818</td>\n",
       "      <td>6.580103</td>\n",
       "      <td>14.123672</td>\n",
       "      <td>10.606501</td>\n",
       "      <td>13.189237</td>\n",
       "      <td>6.649466</td>\n",
       "      <td>10.520335</td>\n",
       "      <td>10.338490</td>\n",
       "      <td>10.248379</td>\n",
       "      <td>10.229970</td>\n",
       "      <td>...</td>\n",
       "      <td>-0.691766</td>\n",
       "      <td>-0.337863</td>\n",
       "      <td>-0.178503</td>\n",
       "      <td>0.011638</td>\n",
       "      <td>-0.207257</td>\n",
       "      <td>0</td>\n",
       "      <td>Positive</td>\n",
       "      <td>Positive</td>\n",
       "      <td>Negative</td>\n",
       "      <td>infiltrating ductal carcinoma</td>\n",
       "    </tr>\n",
       "    <tr>\n",
       "      <th>1</th>\n",
       "      <td>0.000000</td>\n",
       "      <td>3.691311</td>\n",
       "      <td>17.116090</td>\n",
       "      <td>15.517231</td>\n",
       "      <td>9.867616</td>\n",
       "      <td>9.691667</td>\n",
       "      <td>8.179522</td>\n",
       "      <td>7.911723</td>\n",
       "      <td>1.289598</td>\n",
       "      <td>1.818891</td>\n",
       "      <td>...</td>\n",
       "      <td>0.279067</td>\n",
       "      <td>0.292925</td>\n",
       "      <td>-0.155242</td>\n",
       "      <td>-0.089365</td>\n",
       "      <td>0.267530</td>\n",
       "      <td>0</td>\n",
       "      <td>Positive</td>\n",
       "      <td>Negative</td>\n",
       "      <td>Negative</td>\n",
       "      <td>infiltrating ductal carcinoma</td>\n",
       "    </tr>\n",
       "    <tr>\n",
       "      <th>2</th>\n",
       "      <td>3.748150</td>\n",
       "      <td>4.375255</td>\n",
       "      <td>9.658123</td>\n",
       "      <td>5.326983</td>\n",
       "      <td>12.109539</td>\n",
       "      <td>11.644307</td>\n",
       "      <td>10.517330</td>\n",
       "      <td>5.114925</td>\n",
       "      <td>11.975349</td>\n",
       "      <td>11.911437</td>\n",
       "      <td>...</td>\n",
       "      <td>0.219910</td>\n",
       "      <td>0.308110</td>\n",
       "      <td>-0.190794</td>\n",
       "      <td>-0.222150</td>\n",
       "      <td>-0.198518</td>\n",
       "      <td>0</td>\n",
       "      <td>Positive</td>\n",
       "      <td>Positive</td>\n",
       "      <td>Negative</td>\n",
       "      <td>infiltrating ductal carcinoma</td>\n",
       "    </tr>\n",
       "    <tr>\n",
       "      <th>3</th>\n",
       "      <td>0.000000</td>\n",
       "      <td>18.235519</td>\n",
       "      <td>18.535480</td>\n",
       "      <td>14.533584</td>\n",
       "      <td>14.078992</td>\n",
       "      <td>8.913760</td>\n",
       "      <td>10.557465</td>\n",
       "      <td>13.304434</td>\n",
       "      <td>8.205059</td>\n",
       "      <td>9.211476</td>\n",
       "      <td>...</td>\n",
       "      <td>-0.266554</td>\n",
       "      <td>-0.079871</td>\n",
       "      <td>-0.463237</td>\n",
       "      <td>0.522998</td>\n",
       "      <td>-0.046902</td>\n",
       "      <td>0</td>\n",
       "      <td>Positive</td>\n",
       "      <td>Positive</td>\n",
       "      <td>Negative</td>\n",
       "      <td>infiltrating ductal carcinoma</td>\n",
       "    </tr>\n",
       "    <tr>\n",
       "      <th>4</th>\n",
       "      <td>0.000000</td>\n",
       "      <td>4.583724</td>\n",
       "      <td>15.711865</td>\n",
       "      <td>12.804521</td>\n",
       "      <td>8.881669</td>\n",
       "      <td>8.430028</td>\n",
       "      <td>12.964607</td>\n",
       "      <td>6.806517</td>\n",
       "      <td>4.294341</td>\n",
       "      <td>5.385714</td>\n",
       "      <td>...</td>\n",
       "      <td>-0.441542</td>\n",
       "      <td>-0.152317</td>\n",
       "      <td>0.511386</td>\n",
       "      <td>-0.096482</td>\n",
       "      <td>0.037473</td>\n",
       "      <td>0</td>\n",
       "      <td>Positive</td>\n",
       "      <td>Positive</td>\n",
       "      <td>Negative</td>\n",
       "      <td>infiltrating ductal carcinoma</td>\n",
       "    </tr>\n",
       "  </tbody>\n",
       "</table>\n",
       "<p>5 rows × 1941 columns</p>\n",
       "</div>"
      ],
      "text/plain": [
       "   rs_CLEC3A    rs_CPB1  rs_SCGB2A2  rs_SCGB1D2    rs_TFF1   rs_MUCL1  \\\n",
       "0   0.892818   6.580103   14.123672   10.606501  13.189237   6.649466   \n",
       "1   0.000000   3.691311   17.116090   15.517231   9.867616   9.691667   \n",
       "2   3.748150   4.375255    9.658123    5.326983  12.109539  11.644307   \n",
       "3   0.000000  18.235519   18.535480   14.533584  14.078992   8.913760   \n",
       "4   0.000000   4.583724   15.711865   12.804521   8.881669   8.430028   \n",
       "\n",
       "    rs_GSTM1     rs_PIP  rs_ADIPOQ   rs_ADH1B  ...  pp_p62.LCK.ligand  \\\n",
       "0  10.520335  10.338490  10.248379  10.229970  ...          -0.691766   \n",
       "1   8.179522   7.911723   1.289598   1.818891  ...           0.279067   \n",
       "2  10.517330   5.114925  11.975349  11.911437  ...           0.219910   \n",
       "3  10.557465  13.304434   8.205059   9.211476  ...          -0.266554   \n",
       "4  12.964607   6.806517   4.294341   5.385714  ...          -0.441542   \n",
       "\n",
       "   pp_p70S6K  pp_p70S6K.pT389  pp_p90RSK  pp_p90RSK.pT359.S363  vital.status  \\\n",
       "0  -0.337863        -0.178503   0.011638             -0.207257             0   \n",
       "1   0.292925        -0.155242  -0.089365              0.267530             0   \n",
       "2   0.308110        -0.190794  -0.222150             -0.198518             0   \n",
       "3  -0.079871        -0.463237   0.522998             -0.046902             0   \n",
       "4  -0.152317         0.511386  -0.096482              0.037473             0   \n",
       "\n",
       "   PR.Status  ER.Status  HER2.Final.Status              histological.type  \n",
       "0   Positive   Positive           Negative  infiltrating ductal carcinoma  \n",
       "1   Positive   Negative           Negative  infiltrating ductal carcinoma  \n",
       "2   Positive   Positive           Negative  infiltrating ductal carcinoma  \n",
       "3   Positive   Positive           Negative  infiltrating ductal carcinoma  \n",
       "4   Positive   Positive           Negative  infiltrating ductal carcinoma  \n",
       "\n",
       "[5 rows x 1941 columns]"
      ]
     },
     "metadata": {},
     "output_type": "display_data"
    },
    {
     "data": {
      "text/html": [
       "<div>\n",
       "<style scoped>\n",
       "    .dataframe tbody tr th:only-of-type {\n",
       "        vertical-align: middle;\n",
       "    }\n",
       "\n",
       "    .dataframe tbody tr th {\n",
       "        vertical-align: top;\n",
       "    }\n",
       "\n",
       "    .dataframe thead th {\n",
       "        text-align: right;\n",
       "    }\n",
       "</style>\n",
       "<table border=\"1\" class=\"dataframe\">\n",
       "  <thead>\n",
       "    <tr style=\"text-align: right;\">\n",
       "      <th></th>\n",
       "      <th>DRUG_ID</th>\n",
       "      <th>COSMIC_ID</th>\n",
       "      <th>dose</th>\n",
       "      <th>viability</th>\n",
       "      <th>DATASET</th>\n",
       "      <th>ARXSPAN_ID</th>\n",
       "      <th>DRUG_NAME</th>\n",
       "      <th>BROAD_ID</th>\n",
       "    </tr>\n",
       "  </thead>\n",
       "  <tbody>\n",
       "    <tr>\n",
       "      <th>0</th>\n",
       "      <td>1007</td>\n",
       "      <td>924238</td>\n",
       "      <td>0.012500</td>\n",
       "      <td>0.183654</td>\n",
       "      <td>GDSC1</td>\n",
       "      <td>ACH-002148</td>\n",
       "      <td>DOCETAXEL</td>\n",
       "      <td>BRD-K30577245, BRD-A05821830, BRD-K63265447, B...</td>\n",
       "    </tr>\n",
       "    <tr>\n",
       "      <th>1</th>\n",
       "      <td>1007</td>\n",
       "      <td>924238</td>\n",
       "      <td>0.006250</td>\n",
       "      <td>0.104707</td>\n",
       "      <td>GDSC1</td>\n",
       "      <td>ACH-002148</td>\n",
       "      <td>DOCETAXEL</td>\n",
       "      <td>BRD-K30577245, BRD-A05821830, BRD-K63265447, B...</td>\n",
       "    </tr>\n",
       "    <tr>\n",
       "      <th>2</th>\n",
       "      <td>1007</td>\n",
       "      <td>924238</td>\n",
       "      <td>0.003125</td>\n",
       "      <td>0.282676</td>\n",
       "      <td>GDSC1</td>\n",
       "      <td>ACH-002148</td>\n",
       "      <td>DOCETAXEL</td>\n",
       "      <td>BRD-K30577245, BRD-A05821830, BRD-K63265447, B...</td>\n",
       "    </tr>\n",
       "    <tr>\n",
       "      <th>3</th>\n",
       "      <td>1007</td>\n",
       "      <td>924238</td>\n",
       "      <td>0.001563</td>\n",
       "      <td>0.325207</td>\n",
       "      <td>GDSC1</td>\n",
       "      <td>ACH-002148</td>\n",
       "      <td>DOCETAXEL</td>\n",
       "      <td>BRD-K30577245, BRD-A05821830, BRD-K63265447, B...</td>\n",
       "    </tr>\n",
       "    <tr>\n",
       "      <th>4</th>\n",
       "      <td>1007</td>\n",
       "      <td>924238</td>\n",
       "      <td>0.000781</td>\n",
       "      <td>0.526366</td>\n",
       "      <td>GDSC1</td>\n",
       "      <td>ACH-002148</td>\n",
       "      <td>DOCETAXEL</td>\n",
       "      <td>BRD-K30577245, BRD-A05821830, BRD-K63265447, B...</td>\n",
       "    </tr>\n",
       "  </tbody>\n",
       "</table>\n",
       "</div>"
      ],
      "text/plain": [
       "   DRUG_ID  COSMIC_ID      dose  viability DATASET  ARXSPAN_ID  DRUG_NAME  \\\n",
       "0     1007     924238  0.012500   0.183654   GDSC1  ACH-002148  DOCETAXEL   \n",
       "1     1007     924238  0.006250   0.104707   GDSC1  ACH-002148  DOCETAXEL   \n",
       "2     1007     924238  0.003125   0.282676   GDSC1  ACH-002148  DOCETAXEL   \n",
       "3     1007     924238  0.001563   0.325207   GDSC1  ACH-002148  DOCETAXEL   \n",
       "4     1007     924238  0.000781   0.526366   GDSC1  ACH-002148  DOCETAXEL   \n",
       "\n",
       "                                            BROAD_ID  \n",
       "0  BRD-K30577245, BRD-A05821830, BRD-K63265447, B...  \n",
       "1  BRD-K30577245, BRD-A05821830, BRD-K63265447, B...  \n",
       "2  BRD-K30577245, BRD-A05821830, BRD-K63265447, B...  \n",
       "3  BRD-K30577245, BRD-A05821830, BRD-K63265447, B...  \n",
       "4  BRD-K30577245, BRD-A05821830, BRD-K63265447, B...  "
      ]
     },
     "metadata": {},
     "output_type": "display_data"
    }
   ],
   "source": [
    "display(mutations_data.head(5))\n",
    "display(drug_sensitivity_data.head(5))"
   ]
  },
  {
   "cell_type": "code",
   "execution_count": 5,
   "id": "13becd35-7ce3-497f-b9b2-a50e2a1de07a",
   "metadata": {},
   "outputs": [
    {
     "name": "stdout",
     "output_type": "stream",
     "text": [
      "<class 'pandas.core.frame.DataFrame'>\n",
      "RangeIndex: 705 entries, 0 to 704\n",
      "Columns: 1941 entries, rs_CLEC3A to histological.type\n",
      "dtypes: float64(827), int64(1110), object(4)\n",
      "memory usage: 10.4+ MB\n"
     ]
    },
    {
     "data": {
      "text/plain": [
       "int64      1110\n",
       "float64     827\n",
       "object        4\n",
       "Name: count, dtype: int64"
      ]
     },
     "execution_count": 5,
     "metadata": {},
     "output_type": "execute_result"
    }
   ],
   "source": [
    "mutations_data.info(verbose=False, show_counts=True)\n",
    "mutations_data.dtypes.value_counts()"
   ]
  },
  {
   "cell_type": "code",
   "execution_count": 6,
   "id": "71221e68-8941-4597-b9ac-cfa93abac842",
   "metadata": {},
   "outputs": [
    {
     "data": {
      "text/html": [
       "<div>\n",
       "<style scoped>\n",
       "    .dataframe tbody tr th:only-of-type {\n",
       "        vertical-align: middle;\n",
       "    }\n",
       "\n",
       "    .dataframe tbody tr th {\n",
       "        vertical-align: top;\n",
       "    }\n",
       "\n",
       "    .dataframe thead th {\n",
       "        text-align: right;\n",
       "    }\n",
       "</style>\n",
       "<table border=\"1\" class=\"dataframe\">\n",
       "  <thead>\n",
       "    <tr style=\"text-align: right;\">\n",
       "      <th></th>\n",
       "      <th>0</th>\n",
       "      <th>1</th>\n",
       "      <th>2</th>\n",
       "      <th>3</th>\n",
       "      <th>4</th>\n",
       "      <th>5</th>\n",
       "      <th>6</th>\n",
       "      <th>7</th>\n",
       "      <th>8</th>\n",
       "      <th>9</th>\n",
       "      <th>...</th>\n",
       "      <th>1931</th>\n",
       "      <th>1932</th>\n",
       "      <th>1933</th>\n",
       "      <th>1934</th>\n",
       "      <th>1935</th>\n",
       "      <th>1936</th>\n",
       "      <th>1937</th>\n",
       "      <th>1938</th>\n",
       "      <th>1939</th>\n",
       "      <th>1940</th>\n",
       "    </tr>\n",
       "  </thead>\n",
       "  <tbody>\n",
       "    <tr>\n",
       "      <th>name</th>\n",
       "      <td>rs_CLEC3A</td>\n",
       "      <td>rs_CPB1</td>\n",
       "      <td>rs_SCGB2A2</td>\n",
       "      <td>rs_SCGB1D2</td>\n",
       "      <td>rs_TFF1</td>\n",
       "      <td>rs_MUCL1</td>\n",
       "      <td>rs_GSTM1</td>\n",
       "      <td>rs_PIP</td>\n",
       "      <td>rs_ADIPOQ</td>\n",
       "      <td>rs_ADH1B</td>\n",
       "      <td>...</td>\n",
       "      <td>pp_p62.LCK.ligand</td>\n",
       "      <td>pp_p70S6K</td>\n",
       "      <td>pp_p70S6K.pT389</td>\n",
       "      <td>pp_p90RSK</td>\n",
       "      <td>pp_p90RSK.pT359.S363</td>\n",
       "      <td>vital.status</td>\n",
       "      <td>PR.Status</td>\n",
       "      <td>ER.Status</td>\n",
       "      <td>HER2.Final.Status</td>\n",
       "      <td>histological.type</td>\n",
       "    </tr>\n",
       "    <tr>\n",
       "      <th>dtype</th>\n",
       "      <td>float64</td>\n",
       "      <td>float64</td>\n",
       "      <td>float64</td>\n",
       "      <td>float64</td>\n",
       "      <td>float64</td>\n",
       "      <td>float64</td>\n",
       "      <td>float64</td>\n",
       "      <td>float64</td>\n",
       "      <td>float64</td>\n",
       "      <td>float64</td>\n",
       "      <td>...</td>\n",
       "      <td>float64</td>\n",
       "      <td>float64</td>\n",
       "      <td>float64</td>\n",
       "      <td>float64</td>\n",
       "      <td>float64</td>\n",
       "      <td>int64</td>\n",
       "      <td>object</td>\n",
       "      <td>object</td>\n",
       "      <td>object</td>\n",
       "      <td>object</td>\n",
       "    </tr>\n",
       "    <tr>\n",
       "      <th>non_null</th>\n",
       "      <td>705</td>\n",
       "      <td>705</td>\n",
       "      <td>705</td>\n",
       "      <td>705</td>\n",
       "      <td>705</td>\n",
       "      <td>705</td>\n",
       "      <td>705</td>\n",
       "      <td>705</td>\n",
       "      <td>705</td>\n",
       "      <td>705</td>\n",
       "      <td>...</td>\n",
       "      <td>705</td>\n",
       "      <td>705</td>\n",
       "      <td>705</td>\n",
       "      <td>705</td>\n",
       "      <td>705</td>\n",
       "      <td>705</td>\n",
       "      <td>583</td>\n",
       "      <td>583</td>\n",
       "      <td>560</td>\n",
       "      <td>705</td>\n",
       "    </tr>\n",
       "    <tr>\n",
       "      <th>null_pct</th>\n",
       "      <td>0.0</td>\n",
       "      <td>0.0</td>\n",
       "      <td>0.0</td>\n",
       "      <td>0.0</td>\n",
       "      <td>0.0</td>\n",
       "      <td>0.0</td>\n",
       "      <td>0.0</td>\n",
       "      <td>0.0</td>\n",
       "      <td>0.0</td>\n",
       "      <td>0.0</td>\n",
       "      <td>...</td>\n",
       "      <td>0.0</td>\n",
       "      <td>0.0</td>\n",
       "      <td>0.0</td>\n",
       "      <td>0.0</td>\n",
       "      <td>0.0</td>\n",
       "      <td>0.0</td>\n",
       "      <td>17.3</td>\n",
       "      <td>17.3</td>\n",
       "      <td>20.57</td>\n",
       "      <td>0.0</td>\n",
       "    </tr>\n",
       "    <tr>\n",
       "      <th>n_unique</th>\n",
       "      <td>522</td>\n",
       "      <td>672</td>\n",
       "      <td>691</td>\n",
       "      <td>680</td>\n",
       "      <td>666</td>\n",
       "      <td>683</td>\n",
       "      <td>667</td>\n",
       "      <td>684</td>\n",
       "      <td>678</td>\n",
       "      <td>670</td>\n",
       "      <td>...</td>\n",
       "      <td>705</td>\n",
       "      <td>704</td>\n",
       "      <td>701</td>\n",
       "      <td>705</td>\n",
       "      <td>705</td>\n",
       "      <td>2</td>\n",
       "      <td>5</td>\n",
       "      <td>5</td>\n",
       "      <td>4</td>\n",
       "      <td>2</td>\n",
       "    </tr>\n",
       "    <tr>\n",
       "      <th>example</th>\n",
       "      <td>0.892818</td>\n",
       "      <td>6.580103</td>\n",
       "      <td>14.123672</td>\n",
       "      <td>10.606501</td>\n",
       "      <td>13.189237</td>\n",
       "      <td>6.649466</td>\n",
       "      <td>10.520335</td>\n",
       "      <td>10.33849</td>\n",
       "      <td>10.248379</td>\n",
       "      <td>10.22997</td>\n",
       "      <td>...</td>\n",
       "      <td>-0.691766</td>\n",
       "      <td>-0.337863</td>\n",
       "      <td>-0.178503</td>\n",
       "      <td>0.011638</td>\n",
       "      <td>-0.207257</td>\n",
       "      <td>0</td>\n",
       "      <td>Positive</td>\n",
       "      <td>Positive</td>\n",
       "      <td>Negative</td>\n",
       "      <td>infiltrating ductal carcinoma</td>\n",
       "    </tr>\n",
       "  </tbody>\n",
       "</table>\n",
       "<p>6 rows × 1941 columns</p>\n",
       "</div>"
      ],
      "text/plain": [
       "               0         1           2           3          4         5     \\\n",
       "name      rs_CLEC3A   rs_CPB1  rs_SCGB2A2  rs_SCGB1D2    rs_TFF1  rs_MUCL1   \n",
       "dtype       float64   float64     float64     float64    float64   float64   \n",
       "non_null        705       705         705         705        705       705   \n",
       "null_pct        0.0       0.0         0.0         0.0        0.0       0.0   \n",
       "n_unique        522       672         691         680        666       683   \n",
       "example    0.892818  6.580103   14.123672   10.606501  13.189237  6.649466   \n",
       "\n",
       "               6         7          8         9     ...               1931  \\\n",
       "name       rs_GSTM1    rs_PIP  rs_ADIPOQ  rs_ADH1B  ...  pp_p62.LCK.ligand   \n",
       "dtype       float64   float64    float64   float64  ...            float64   \n",
       "non_null        705       705        705       705  ...                705   \n",
       "null_pct        0.0       0.0        0.0       0.0  ...                0.0   \n",
       "n_unique        667       684        678       670  ...                705   \n",
       "example   10.520335  10.33849  10.248379  10.22997  ...          -0.691766   \n",
       "\n",
       "               1932             1933       1934                  1935  \\\n",
       "name      pp_p70S6K  pp_p70S6K.pT389  pp_p90RSK  pp_p90RSK.pT359.S363   \n",
       "dtype       float64          float64    float64               float64   \n",
       "non_null        705              705        705                   705   \n",
       "null_pct        0.0              0.0        0.0                   0.0   \n",
       "n_unique        704              701        705                   705   \n",
       "example   -0.337863        -0.178503   0.011638             -0.207257   \n",
       "\n",
       "                  1936       1937       1938               1939  \\\n",
       "name      vital.status  PR.Status  ER.Status  HER2.Final.Status   \n",
       "dtype            int64     object     object             object   \n",
       "non_null           705        583        583                560   \n",
       "null_pct           0.0       17.3       17.3              20.57   \n",
       "n_unique             2          5          5                  4   \n",
       "example              0   Positive   Positive           Negative   \n",
       "\n",
       "                                   1940  \n",
       "name                  histological.type  \n",
       "dtype                            object  \n",
       "non_null                            705  \n",
       "null_pct                            0.0  \n",
       "n_unique                              2  \n",
       "example   infiltrating ductal carcinoma  \n",
       "\n",
       "[6 rows x 1941 columns]"
      ]
     },
     "execution_count": 6,
     "metadata": {},
     "output_type": "execute_result"
    }
   ],
   "source": [
    "cols = mutations_data.columns\n",
    "out = []\n",
    "\n",
    "for c in cols:\n",
    "    ser = mutations_data[c]\n",
    "    non_null = ser.notna().sum()\n",
    "    null_pct = 100.0 * (1.0 - non_null / max(len(mutations_data), 1))\n",
    "    try:\n",
    "        ex = ser.dropna().iloc[0]\n",
    "    except Exception:\n",
    "        ex = None\n",
    "        \n",
    "    out.append({\n",
    "        \"name\": c,\n",
    "        \"dtype\": str(ser.dtype),\n",
    "        \"non_null\": int(non_null),\n",
    "        \"null_pct\": round(null_pct, 2),\n",
    "        \"n_unique\": int(ser.nunique(dropna=True)),\n",
    "        \"example\": ex\n",
    "    })\n",
    "    \n",
    "table = pd.DataFrame(out).T\n",
    "table"
   ]
  },
  {
   "cell_type": "markdown",
   "id": "3e1837ac-614a-4457-8a6f-8295d13b8cee",
   "metadata": {},
   "source": [
    "<p style=\"font-size:18px;\"> The `mutations_data` table contains breast cancer patient samples with rich molecular and clinical annotations. Its shape reflects the number of tumor samples (rows) and the many features measured per sample (columns), including clinical subtype labels such as HER2, ER, and PR status, survival indicator, histological type, and quantitative pathway activity markers like `pp_HER2` and `pp_HER2.pY1248`. The first few rows demonstrate the format: each sample carries both its subtype label and the corresponding level of HER2 pathway activation, which will serve as the biological signal in the downstream analysis. </p>"
   ]
  },
  {
   "cell_type": "markdown",
   "id": "b691d32e-933d-4426-9c36-854ca909982f",
   "metadata": {},
   "source": [
    "<p style=\"font-size:18px;\"> The `drug_sensitivity_data` table captures in vitro drug response experiments. Each row is a single drug-cell line-dose measurement, with the drug identity (`DRUG_NAME`), the applied concentration (`dose`), and the resulting cell viability (`viability`). The preview shows raw survival fractions across different drugs and doses, which will be used to assess and compare the effectiveness of HER2-related (or proxy) targeted agents versus non-targeted comparators. </p>"
   ]
  },
  {
   "cell_type": "markdown",
   "id": "61597acc-bec5-43d7-b86d-5857cf4b5c33",
   "metadata": {},
   "source": [
    "### 2.3. Immediate Observations and Next Steps"
   ]
  },
  {
   "cell_type": "markdown",
   "id": "6b66b524-5bc9-49fd-b38e-90ea70426ff0",
   "metadata": {},
   "source": [
    "<p style=\"font-size:18px;\"> From here, the next steps are to quantify the balance and quality of these data: count how many samples are labeled HER2-positive versus HER2-negative in `mutations_data`, and summarize the distribution of HER2 pathway activity within each group. In the drug data, identify the set of targeted versus comparator drugs, and compute basic summary statistics (like median viability) for each. This will establish the two analytical strands - tumor biology and drug response - that will later be integrated to test the central hypothesis. </p>"
   ]
  },
  {
   "cell_type": "markdown",
   "id": "120f0abd-2e59-45e8-8f92-f519069f58a5",
   "metadata": {},
   "source": [
    "## 3. Data Preprocessing"
   ]
  },
  {
   "cell_type": "markdown",
   "id": "6be020b4-6c55-4215-889d-551a90fd334e",
   "metadata": {},
   "source": [
    "<p style=\"font-size:18px;\"> This section prepares both datasets for analysis: tumor biology (HER2 status and pathway activity) and drug response. The goal is to enforce consistency, create clean group definitions, normalize quantitative signals, and define the targeted vs comparator drug sets. Precise notation is introduced to make downstream hypotheses and tests unambiguous. </p>"
   ]
  },
  {
   "cell_type": "markdown",
   "id": "9d7da54d-b639-4cb3-b488-3c9c572802e2",
   "metadata": {},
   "source": [
    "### 3.1. Notation and Variables"
   ]
  },
  {
   "cell_type": "markdown",
   "id": "be1444bc-3405-4250-8232-e9500c98fae6",
   "metadata": {},
   "source": [
    "<p style=\"font-size:18px;\"> Let $i$ index patient tumor samples.  </p>\n",
    "\n",
    "<p style=\"font-size:18px;\"> Let $H_i \\in \\{0,1\\} $ be the binary HER2 status indicator:\n",
    "  $$\n",
    "  H_i = \n",
    "  \\begin{cases}\n",
    "    1 & \\text{if sample } i \\text{ is HER2-positive} \\\\\n",
    "    0 & \\text{if sample } i \\text{ is HER2-negative}\n",
    "  \\end{cases}\n",
    "  $$ </p>\n",
    "  \n",
    "<p style=\"font-size:18px;\"> Let $x_i$ denote the raw HER2 pathway activity measurement for sample $i$ (like `pp_HER2` or `pp_HER2.pY1248`). </p>\n",
    "                                                                                        \n",
    "<p style=\"font-size:18px;\"> Let $j$ index drug treatment experiments. For drug $j$, let $D_j$ be its name, $d_j$ the dose, and $ v_j$ the observed viability. </p>"
   ]
  },
  {
   "cell_type": "markdown",
   "id": "8613b253-e0a9-45b9-98fd-71f94eb65e49",
   "metadata": {},
   "source": [
    "<p style=\"font-size:18px;\"> We will define two drug categories. First one is: Targeted drugs $\\mathcal{T}$: agents acting on the HER2/HER-family axis or closest biological proxies (Lapatinib, Neratinib, EGFR inhibitors if exact HER2 inhibitors are absent). Next come Comparator drugs $\\mathcal{C}$: non-targeted standard treatments (Docetaxel) used as a baseline. </p>"
   ]
  },
  {
   "cell_type": "markdown",
   "id": "d20efee9-3fd5-41c8-a1e8-4da2d996a7af",
   "metadata": {},
   "source": [
    "### 3.2. Cleaning and Filtering"
   ]
  },
  {
   "cell_type": "markdown",
   "id": "88c24b5c-001d-4e49-bdd3-f6bc37b9bb9c",
   "metadata": {},
   "source": [
    "#### 3.2.1. Mutations Data"
   ]
  },
  {
   "cell_type": "markdown",
   "id": "95f6e8ff-c73c-4c98-95eb-4aa255eb3157",
   "metadata": {},
   "source": [
    "<p style=\"font-size:18px;\"> Before any numeric transformation, we inspect and choose which columns will be used for the core analysis and which will be set aside (or used later as extensions). The dataset is wide; most features are not needed for the primary hypothesis, so we reduce complexity by keeping only what directly supports the test of HER2 signaling vs drug sensitivity. </p>"
   ]
  },
  {
   "cell_type": "markdown",
   "id": "7e26ea39-75b3-4ae6-8420-0be9bc3ef495",
   "metadata": {},
   "source": [
    "| Column / Prefix | Meaning (intuition) | Use in core analysis |\n",
    "|-----------------|---------------------|----------------------|\n",
    "| `HER2.Final.Status`, `ER.Status`, `PR.Status` | Clinical subtype labels (hormone receptor status) | **Keep** (grouping, context) |\n",
    "| `vital.status` | Outcome / survival indicator | Optional (exploratory) |\n",
    "| `histological.type` | Tumor histology | Optional (context / stratification) |\n",
    "| `pp_HER2`, `pp_HER2.pY1248` | HER2 protein level and activation (phosphorylation) | **Keep** (primary HER2 pathway signal) |\n",
    "| Other `pp_*` / phospho-variants | Protein signaling network components | Optional / extension |\n",
    "| `mu_*` | Mutation presence indicators (e.g., TP53, PIK3CA) | Optional (secondary depth/confounder checks) |\n",
    "| `cn_*` | Copy number variation | Deferred (not in core) |\n",
    "| `rs_*` | Likely expression or rescaled scores for many genes | Deferred (high-dimensional, for later exploration) |\n",
    "| Other miscellaneous columns | Various derived or gene-related signals | Deferred unless needed |"
   ]
  },
  {
   "cell_type": "markdown",
   "id": "31f64acc-655d-4256-9a1a-36e9c0691347",
   "metadata": {},
   "source": [
    "<p style=\"font-size:18px;\"> `pp_*` columns are measurements of protein levels (or phosphorylation states) in each tumor sample. For example, pp_HER2 is the amount of HER2 protein. `pp_HER2.pY1248` is the activated (phosphorylated) form of HER2 at a specific site. Higher numbers mean more of that protein (or activated protein) was detected. We will compare averages or medians of these values between HER2+ and HER2- tumors to see if HER2+ really have more protein. </p>"
   ]
  },
  {
   "cell_type": "markdown",
   "id": "c511a46d-768f-4d45-8b1e-6937a33c4b6d",
   "metadata": {},
   "source": [
    "<p style=\"font-size:18px;\"> `mu_*` columns are mutation indicators for specific genes. Often these are 0 or 1, where 1 means \"we saw a mutation in this gene in that tumor\". </p>"
   ]
  },
  {
   "cell_type": "markdown",
   "id": "dbad0433-bbc6-4e00-bc5a-21f5cd5e68eb",
   "metadata": {},
   "source": [
    "<p style=\"font-size:18px;\"> `cn_*` columns are copy-number measures for genes - how many DNA copies of that gene are in the tumor. Values might be $\\log_2$ ratios (like 1.0 means twice as many copies; –1.0 means half as many). Or raw copy-number estimates (e.g. 3.2 copies on average). </p>"
   ]
  },
  {
   "cell_type": "markdown",
   "id": "00f6f318-9a6f-4d5b-a929-34ab6bbd5fcb",
   "metadata": {},
   "source": [
    "<p style=\"font-size:18px;\"> `rs_*` columns are gene-expression or \"rescaled\" scores for those genes - e.g. mRNA abundance measured on a microarray or RNA-seq. They're continuous and often on a log scale or normalized scale. </p>"
   ]
  },
  {
   "cell_type": "markdown",
   "id": "d27a9457-e412-44f7-86cb-1d2d8552cbeb",
   "metadata": {},
   "source": [
    "<p style=\"font-size:18px;\"> The full `mutations_data` contains thousands of measurements (`cn_*`, `rs_*`, `mu_*`, many `pp_*`), but our primary hypothesis hinges on just a few key variables: the clinical HER2 status (`HER2.Final.Status`) and its direct biological readouts (`pp_HER2` or `pp_HER2.pY1248`). By ignoring all other columns for now, we are left with: </p>"
   ]
  },
  {
   "cell_type": "markdown",
   "id": "c74207dd-26da-403c-ade6-48330088fb82",
   "metadata": {},
   "source": [
    "<p style=\"font-size:18px;\"> HER2 status normalization - we will convert the clinical label `HER2.Final.Status` into the binary indicator $H_i$ by mapping \"Positive\" into 1, \"Negative\" into 0. Samples with missing, ambiguous, or non-standard status (like \"Equivocal\") are excluded to keep a clean two-group comparison. </p>"
   ]
  },
  {
   "cell_type": "markdown",
   "id": "4684e348-7551-4888-a8bb-660982532f86",
   "metadata": {},
   "source": [
    "<p style=\"font-size:18px;\"> We'll look at value counts for each of these columns, then apply simple cleaning (trim whitespace, unify case, map synonyms) if needed. </p>"
   ]
  },
  {
   "cell_type": "markdown",
   "id": "bfb1c79b-9167-446d-9a1c-7874340c762d",
   "metadata": {},
   "source": [
    "<p style=\"font-size:18px;\"> Now I present the tumor dataset cleaning and vital-status encoding in code.<br>\n",
    "The function <code>clean_mutations()</code> takes: </p>\n",
    "<ul>\n",
    "  <li><b>mutations_df</b> – raw tumor dataframe.</li>\n",
    "  <li><b>signal_preference</b> – optional priority list for pathway columns (e.g., <code>['pp_her2','pp_her2_py1248']</code>).</li>\n",
    "</ul>\n",
    "<p style=\"font-size:18px;\"> The function <code>encode_vital_status()</code> takes: </p>\n",
    "<ul>\n",
    "  <li><b>df</b> – a dataframe that may contain a vital status column.</li>\n",
    "  <li><b>col</b> – the vital status column name to encode (default <code>\"vital_status\"</code>).</li>\n",
    "</ul>"
   ]
  },
  {
   "cell_type": "code",
   "execution_count": 7,
   "id": "d2490732-9960-4068-a02d-851e2217d852",
   "metadata": {},
   "outputs": [],
   "source": [
    "mutations_data_clean, signal_col = u.clean_mutations(mutations_data)\n",
    "mutations_data_clean = u.encode_vital_status(mutations_data_clean, col=\"vital_status\")"
   ]
  },
  {
   "cell_type": "code",
   "execution_count": 8,
   "id": "19803514-ffc1-4747-8188-a73b4ddac093",
   "metadata": {},
   "outputs": [
    {
     "data": {
      "text/html": [
       "<div>\n",
       "<style scoped>\n",
       "    .dataframe tbody tr th:only-of-type {\n",
       "        vertical-align: middle;\n",
       "    }\n",
       "\n",
       "    .dataframe tbody tr th {\n",
       "        vertical-align: top;\n",
       "    }\n",
       "\n",
       "    .dataframe thead th {\n",
       "        text-align: right;\n",
       "    }\n",
       "</style>\n",
       "<table border=\"1\" class=\"dataframe\">\n",
       "  <thead>\n",
       "    <tr style=\"text-align: right;\">\n",
       "      <th></th>\n",
       "      <th>her2_final_status</th>\n",
       "      <th>pp_her2</th>\n",
       "      <th>er_status</th>\n",
       "      <th>pr_status</th>\n",
       "      <th>vital_status</th>\n",
       "      <th>histological_type</th>\n",
       "      <th>H</th>\n",
       "    </tr>\n",
       "  </thead>\n",
       "  <tbody>\n",
       "    <tr>\n",
       "      <th>0</th>\n",
       "      <td>Negative</td>\n",
       "      <td>0.001087</td>\n",
       "      <td>Positive</td>\n",
       "      <td>Positive</td>\n",
       "      <td>0</td>\n",
       "      <td>infiltrating ductal carcinoma</td>\n",
       "      <td>0</td>\n",
       "    </tr>\n",
       "    <tr>\n",
       "      <th>1</th>\n",
       "      <td>Negative</td>\n",
       "      <td>0.532980</td>\n",
       "      <td>Negative</td>\n",
       "      <td>Positive</td>\n",
       "      <td>0</td>\n",
       "      <td>infiltrating ductal carcinoma</td>\n",
       "      <td>0</td>\n",
       "    </tr>\n",
       "    <tr>\n",
       "      <th>2</th>\n",
       "      <td>Negative</td>\n",
       "      <td>0.092221</td>\n",
       "      <td>Positive</td>\n",
       "      <td>Positive</td>\n",
       "      <td>0</td>\n",
       "      <td>infiltrating ductal carcinoma</td>\n",
       "      <td>0</td>\n",
       "    </tr>\n",
       "    <tr>\n",
       "      <th>3</th>\n",
       "      <td>Negative</td>\n",
       "      <td>0.076133</td>\n",
       "      <td>Positive</td>\n",
       "      <td>Positive</td>\n",
       "      <td>0</td>\n",
       "      <td>infiltrating ductal carcinoma</td>\n",
       "      <td>0</td>\n",
       "    </tr>\n",
       "    <tr>\n",
       "      <th>4</th>\n",
       "      <td>Negative</td>\n",
       "      <td>-0.699090</td>\n",
       "      <td>Positive</td>\n",
       "      <td>Positive</td>\n",
       "      <td>0</td>\n",
       "      <td>infiltrating ductal carcinoma</td>\n",
       "      <td>0</td>\n",
       "    </tr>\n",
       "    <tr>\n",
       "      <th>...</th>\n",
       "      <td>...</td>\n",
       "      <td>...</td>\n",
       "      <td>...</td>\n",
       "      <td>...</td>\n",
       "      <td>...</td>\n",
       "      <td>...</td>\n",
       "      <td>...</td>\n",
       "    </tr>\n",
       "    <tr>\n",
       "      <th>644</th>\n",
       "      <td>Negative</td>\n",
       "      <td>-1.694630</td>\n",
       "      <td>Positive</td>\n",
       "      <td>Positive</td>\n",
       "      <td>0</td>\n",
       "      <td>infiltrating ductal carcinoma</td>\n",
       "      <td>0</td>\n",
       "    </tr>\n",
       "    <tr>\n",
       "      <th>645</th>\n",
       "      <td>Negative</td>\n",
       "      <td>-1.038960</td>\n",
       "      <td>Negative</td>\n",
       "      <td>Negative</td>\n",
       "      <td>0</td>\n",
       "      <td>infiltrating ductal carcinoma</td>\n",
       "      <td>0</td>\n",
       "    </tr>\n",
       "    <tr>\n",
       "      <th>647</th>\n",
       "      <td>Positive</td>\n",
       "      <td>-0.100650</td>\n",
       "      <td>Positive</td>\n",
       "      <td>Positive</td>\n",
       "      <td>0</td>\n",
       "      <td>infiltrating ductal carcinoma</td>\n",
       "      <td>1</td>\n",
       "    </tr>\n",
       "    <tr>\n",
       "      <th>648</th>\n",
       "      <td>Negative</td>\n",
       "      <td>0.179229</td>\n",
       "      <td>Positive</td>\n",
       "      <td>Positive</td>\n",
       "      <td>0</td>\n",
       "      <td>infiltrating ductal carcinoma</td>\n",
       "      <td>0</td>\n",
       "    </tr>\n",
       "    <tr>\n",
       "      <th>649</th>\n",
       "      <td>Negative</td>\n",
       "      <td>-0.391634</td>\n",
       "      <td>Positive</td>\n",
       "      <td>Positive</td>\n",
       "      <td>0</td>\n",
       "      <td>infiltrating lobular carcinoma</td>\n",
       "      <td>0</td>\n",
       "    </tr>\n",
       "  </tbody>\n",
       "</table>\n",
       "<p>543 rows × 7 columns</p>\n",
       "</div>"
      ],
      "text/plain": [
       "    her2_final_status   pp_her2 er_status pr_status  vital_status  \\\n",
       "0            Negative  0.001087  Positive  Positive             0   \n",
       "1            Negative  0.532980  Negative  Positive             0   \n",
       "2            Negative  0.092221  Positive  Positive             0   \n",
       "3            Negative  0.076133  Positive  Positive             0   \n",
       "4            Negative -0.699090  Positive  Positive             0   \n",
       "..                ...       ...       ...       ...           ...   \n",
       "644          Negative -1.694630  Positive  Positive             0   \n",
       "645          Negative -1.038960  Negative  Negative             0   \n",
       "647          Positive -0.100650  Positive  Positive             0   \n",
       "648          Negative  0.179229  Positive  Positive             0   \n",
       "649          Negative -0.391634  Positive  Positive             0   \n",
       "\n",
       "                  histological_type  H  \n",
       "0     infiltrating ductal carcinoma  0  \n",
       "1     infiltrating ductal carcinoma  0  \n",
       "2     infiltrating ductal carcinoma  0  \n",
       "3     infiltrating ductal carcinoma  0  \n",
       "4     infiltrating ductal carcinoma  0  \n",
       "..                              ... ..  \n",
       "644   infiltrating ductal carcinoma  0  \n",
       "645   infiltrating ductal carcinoma  0  \n",
       "647   infiltrating ductal carcinoma  1  \n",
       "648   infiltrating ductal carcinoma  0  \n",
       "649  infiltrating lobular carcinoma  0  \n",
       "\n",
       "[543 rows x 7 columns]"
      ]
     },
     "execution_count": 8,
     "metadata": {},
     "output_type": "execute_result"
    }
   ],
   "source": [
    "mutations_data_clean"
   ]
  },
  {
   "cell_type": "code",
   "execution_count": 9,
   "id": "9ab2dbfa-4cf7-4319-8ea1-bdd5612e1d0a",
   "metadata": {},
   "outputs": [
    {
     "name": "stdout",
     "output_type": "stream",
     "text": [
      "\n",
      "Value counts for her2_final_status:\n",
      "her2_final_status\n",
      "Negative    457\n",
      "Positive     86\n",
      "Name: count, dtype: int64\n",
      "\n",
      "Value counts for pr_status:\n",
      "pr_status\n",
      "Positive                       332\n",
      "Negative                       177\n",
      "Not Performed                   28\n",
      "Indeterminate                    4\n",
      "Performed but Not Available      2\n",
      "Name: count, dtype: int64\n",
      "\n",
      "Value counts for vital_status:\n",
      "vital_status\n",
      "0    475\n",
      "1     68\n",
      "Name: count, dtype: int64\n",
      "\n",
      "Value counts for histological_type:\n",
      "histological_type\n",
      "infiltrating ductal carcinoma     492\n",
      "infiltrating lobular carcinoma     51\n",
      "Name: count, dtype: int64\n"
     ]
    }
   ],
   "source": [
    "# Categorical columns to check\n",
    "cat_cols = [\"her2_final_status\", \"E\", \"pr_status\", \"vital_status\", \"histological_type\"]\n",
    "\n",
    "for col in cat_cols:\n",
    "    if col in mutations_data_clean.columns:\n",
    "        print(f\"\\nValue counts for {col}:\")\n",
    "        print(mutations_data_clean[col].value_counts(dropna=False))"
   ]
  },
  {
   "cell_type": "markdown",
   "id": "6b219bc3-0010-4976-866b-a84660497327",
   "metadata": {},
   "source": [
    "<p style=\"font-size:18px;\"> Based on the value counts, ER and PR status include entries like \"Not Performed\" or \"Indeterminate\" that we don't want in our core grouping. </p>"
   ]
  },
  {
   "cell_type": "code",
   "execution_count": 10,
   "id": "0ec36821-d724-461a-b015-5445ef0a5454",
   "metadata": {},
   "outputs": [],
   "source": [
    "# Create binary indicators\n",
    "er = mutations_data_clean[\"er_status\"].astype(str).str.strip().str.lower()\n",
    "mutations_data_clean[\"E\"] = er.map({\n",
    "    \"positive\": 1, \"pos\": 1, \"er+\": 1,\n",
    "    \"negative\": 0, \"neg\": 0, \"er-\": 0\n",
    "}).astype(\"Int64\")\n",
    "\n",
    "pr = mutations_data_clean[\"pr_status\"].astype(str).str.strip().str.lower()\n",
    "mutations_data_clean[\"P\"] = pr.map({\n",
    "    \"positive\": 1, \"pos\": 1, \"pr+\": 1,\n",
    "    \"negative\": 0, \"neg\": 0, \"pr-\": 0\n",
    "}).astype(\"Int64\")\n",
    "\n",
    "mutations_data_clean = mutations_data_clean[mutations_data_clean[\"E\"].notna()]\n",
    "mutations_data_clean = mutations_data_clean[mutations_data_clean[\"P\"].notna()]"
   ]
  },
  {
   "cell_type": "code",
   "execution_count": 11,
   "id": "b7831d44-2eee-4550-959e-e0d89dba5727",
   "metadata": {},
   "outputs": [
    {
     "name": "stdout",
     "output_type": "stream",
     "text": [
      "\n",
      "her2_final_status value counts:\n",
      "her2_final_status\n",
      "Negative    425\n",
      "Positive     82\n",
      "Name: count, dtype: int64\n",
      "\n",
      "pp_her2 value counts:\n",
      "pp_her2\n",
      "-0.391634    1\n",
      " 0.001087    1\n",
      " 0.532980    1\n",
      " 0.092221    1\n",
      " 0.076133    1\n",
      "            ..\n",
      "-0.186787    1\n",
      " 0.294261    1\n",
      "-0.716942    1\n",
      "-0.356237    1\n",
      "-0.810192    1\n",
      "Name: count, Length: 507, dtype: int64\n",
      "\n",
      "er_status value counts:\n",
      "er_status\n",
      "Positive    383\n",
      "Negative    124\n",
      "Name: count, dtype: int64\n",
      "\n",
      "pr_status value counts:\n",
      "pr_status\n",
      "Positive    331\n",
      "Negative    176\n",
      "Name: count, dtype: int64\n",
      "\n",
      "vital_status value counts:\n",
      "vital_status\n",
      "0    445\n",
      "1     62\n",
      "Name: count, dtype: int64\n",
      "\n",
      "histological_type value counts:\n",
      "histological_type\n",
      "infiltrating ductal carcinoma     457\n",
      "infiltrating lobular carcinoma     50\n",
      "Name: count, dtype: int64\n",
      "\n",
      "H value counts:\n",
      "H\n",
      "0    425\n",
      "1     82\n",
      "Name: count, dtype: int64\n",
      "\n",
      "E value counts:\n",
      "E\n",
      "1    383\n",
      "0    124\n",
      "Name: count, dtype: Int64\n",
      "\n",
      "P value counts:\n",
      "P\n",
      "1    331\n",
      "0    176\n",
      "Name: count, dtype: Int64\n"
     ]
    }
   ],
   "source": [
    "# Print value counts for each column to check for missing / inappropriate data\n",
    "for col in mutations_data_clean.columns:\n",
    "    print(f\"\\n{col} value counts:\")\n",
    "    print(mutations_data_clean[col].value_counts(dropna=False))"
   ]
  },
  {
   "cell_type": "code",
   "execution_count": 12,
   "id": "28133be9-dc55-4f5f-9217-216b60d11db6",
   "metadata": {},
   "outputs": [
    {
     "data": {
      "text/plain": [
       "her2_final_status     object\n",
       "pp_her2              float64\n",
       "er_status             object\n",
       "pr_status             object\n",
       "vital_status           int64\n",
       "histological_type     object\n",
       "H                      int64\n",
       "E                      Int64\n",
       "P                      Int64\n",
       "dtype: object"
      ]
     },
     "execution_count": 12,
     "metadata": {},
     "output_type": "execute_result"
    }
   ],
   "source": [
    "mutations_data_clean.dtypes"
   ]
  },
  {
   "cell_type": "code",
   "execution_count": 13,
   "id": "53c91d76-2a9b-480c-b275-49ea3af140a3",
   "metadata": {},
   "outputs": [
    {
     "data": {
      "text/html": [
       "<div>\n",
       "<style scoped>\n",
       "    .dataframe tbody tr th:only-of-type {\n",
       "        vertical-align: middle;\n",
       "    }\n",
       "\n",
       "    .dataframe tbody tr th {\n",
       "        vertical-align: top;\n",
       "    }\n",
       "\n",
       "    .dataframe thead th {\n",
       "        text-align: right;\n",
       "    }\n",
       "</style>\n",
       "<table border=\"1\" class=\"dataframe\">\n",
       "  <thead>\n",
       "    <tr style=\"text-align: right;\">\n",
       "      <th></th>\n",
       "      <th>her2_final_status</th>\n",
       "      <th>pp_her2</th>\n",
       "      <th>er_status</th>\n",
       "      <th>pr_status</th>\n",
       "      <th>vital_status</th>\n",
       "      <th>histological_type</th>\n",
       "      <th>H</th>\n",
       "      <th>E</th>\n",
       "      <th>P</th>\n",
       "    </tr>\n",
       "  </thead>\n",
       "  <tbody>\n",
       "    <tr>\n",
       "      <th>0</th>\n",
       "      <td>Negative</td>\n",
       "      <td>0.001087</td>\n",
       "      <td>Positive</td>\n",
       "      <td>Positive</td>\n",
       "      <td>0</td>\n",
       "      <td>infiltrating ductal carcinoma</td>\n",
       "      <td>0</td>\n",
       "      <td>1</td>\n",
       "      <td>1</td>\n",
       "    </tr>\n",
       "    <tr>\n",
       "      <th>1</th>\n",
       "      <td>Negative</td>\n",
       "      <td>0.532980</td>\n",
       "      <td>Negative</td>\n",
       "      <td>Positive</td>\n",
       "      <td>0</td>\n",
       "      <td>infiltrating ductal carcinoma</td>\n",
       "      <td>0</td>\n",
       "      <td>0</td>\n",
       "      <td>1</td>\n",
       "    </tr>\n",
       "    <tr>\n",
       "      <th>2</th>\n",
       "      <td>Negative</td>\n",
       "      <td>0.092221</td>\n",
       "      <td>Positive</td>\n",
       "      <td>Positive</td>\n",
       "      <td>0</td>\n",
       "      <td>infiltrating ductal carcinoma</td>\n",
       "      <td>0</td>\n",
       "      <td>1</td>\n",
       "      <td>1</td>\n",
       "    </tr>\n",
       "    <tr>\n",
       "      <th>3</th>\n",
       "      <td>Negative</td>\n",
       "      <td>0.076133</td>\n",
       "      <td>Positive</td>\n",
       "      <td>Positive</td>\n",
       "      <td>0</td>\n",
       "      <td>infiltrating ductal carcinoma</td>\n",
       "      <td>0</td>\n",
       "      <td>1</td>\n",
       "      <td>1</td>\n",
       "    </tr>\n",
       "    <tr>\n",
       "      <th>4</th>\n",
       "      <td>Negative</td>\n",
       "      <td>-0.699090</td>\n",
       "      <td>Positive</td>\n",
       "      <td>Positive</td>\n",
       "      <td>0</td>\n",
       "      <td>infiltrating ductal carcinoma</td>\n",
       "      <td>0</td>\n",
       "      <td>1</td>\n",
       "      <td>1</td>\n",
       "    </tr>\n",
       "    <tr>\n",
       "      <th>...</th>\n",
       "      <td>...</td>\n",
       "      <td>...</td>\n",
       "      <td>...</td>\n",
       "      <td>...</td>\n",
       "      <td>...</td>\n",
       "      <td>...</td>\n",
       "      <td>...</td>\n",
       "      <td>...</td>\n",
       "      <td>...</td>\n",
       "    </tr>\n",
       "    <tr>\n",
       "      <th>644</th>\n",
       "      <td>Negative</td>\n",
       "      <td>-1.694630</td>\n",
       "      <td>Positive</td>\n",
       "      <td>Positive</td>\n",
       "      <td>0</td>\n",
       "      <td>infiltrating ductal carcinoma</td>\n",
       "      <td>0</td>\n",
       "      <td>1</td>\n",
       "      <td>1</td>\n",
       "    </tr>\n",
       "    <tr>\n",
       "      <th>645</th>\n",
       "      <td>Negative</td>\n",
       "      <td>-1.038960</td>\n",
       "      <td>Negative</td>\n",
       "      <td>Negative</td>\n",
       "      <td>0</td>\n",
       "      <td>infiltrating ductal carcinoma</td>\n",
       "      <td>0</td>\n",
       "      <td>0</td>\n",
       "      <td>0</td>\n",
       "    </tr>\n",
       "    <tr>\n",
       "      <th>647</th>\n",
       "      <td>Positive</td>\n",
       "      <td>-0.100650</td>\n",
       "      <td>Positive</td>\n",
       "      <td>Positive</td>\n",
       "      <td>0</td>\n",
       "      <td>infiltrating ductal carcinoma</td>\n",
       "      <td>1</td>\n",
       "      <td>1</td>\n",
       "      <td>1</td>\n",
       "    </tr>\n",
       "    <tr>\n",
       "      <th>648</th>\n",
       "      <td>Negative</td>\n",
       "      <td>0.179229</td>\n",
       "      <td>Positive</td>\n",
       "      <td>Positive</td>\n",
       "      <td>0</td>\n",
       "      <td>infiltrating ductal carcinoma</td>\n",
       "      <td>0</td>\n",
       "      <td>1</td>\n",
       "      <td>1</td>\n",
       "    </tr>\n",
       "    <tr>\n",
       "      <th>649</th>\n",
       "      <td>Negative</td>\n",
       "      <td>-0.391634</td>\n",
       "      <td>Positive</td>\n",
       "      <td>Positive</td>\n",
       "      <td>0</td>\n",
       "      <td>infiltrating lobular carcinoma</td>\n",
       "      <td>0</td>\n",
       "      <td>1</td>\n",
       "      <td>1</td>\n",
       "    </tr>\n",
       "  </tbody>\n",
       "</table>\n",
       "<p>507 rows × 9 columns</p>\n",
       "</div>"
      ],
      "text/plain": [
       "    her2_final_status   pp_her2 er_status pr_status  vital_status  \\\n",
       "0            Negative  0.001087  Positive  Positive             0   \n",
       "1            Negative  0.532980  Negative  Positive             0   \n",
       "2            Negative  0.092221  Positive  Positive             0   \n",
       "3            Negative  0.076133  Positive  Positive             0   \n",
       "4            Negative -0.699090  Positive  Positive             0   \n",
       "..                ...       ...       ...       ...           ...   \n",
       "644          Negative -1.694630  Positive  Positive             0   \n",
       "645          Negative -1.038960  Negative  Negative             0   \n",
       "647          Positive -0.100650  Positive  Positive             0   \n",
       "648          Negative  0.179229  Positive  Positive             0   \n",
       "649          Negative -0.391634  Positive  Positive             0   \n",
       "\n",
       "                  histological_type  H  E  P  \n",
       "0     infiltrating ductal carcinoma  0  1  1  \n",
       "1     infiltrating ductal carcinoma  0  0  1  \n",
       "2     infiltrating ductal carcinoma  0  1  1  \n",
       "3     infiltrating ductal carcinoma  0  1  1  \n",
       "4     infiltrating ductal carcinoma  0  1  1  \n",
       "..                              ... .. .. ..  \n",
       "644   infiltrating ductal carcinoma  0  1  1  \n",
       "645   infiltrating ductal carcinoma  0  0  0  \n",
       "647   infiltrating ductal carcinoma  1  1  1  \n",
       "648   infiltrating ductal carcinoma  0  1  1  \n",
       "649  infiltrating lobular carcinoma  0  1  1  \n",
       "\n",
       "[507 rows x 9 columns]"
      ]
     },
     "execution_count": 13,
     "metadata": {},
     "output_type": "execute_result"
    }
   ],
   "source": [
    "mutations_data_clean"
   ]
  },
  {
   "cell_type": "code",
   "execution_count": 14,
   "id": "5e19a99c-4854-4dc4-ae93-4e7c50980768",
   "metadata": {},
   "outputs": [
    {
     "name": "stdout",
     "output_type": "stream",
     "text": [
      "Post‐filter shape: (507, 9)\n",
      "pp_her2    0\n",
      "H          0\n",
      "E          0\n",
      "P          0\n",
      "dtype: int64\n"
     ]
    }
   ],
   "source": [
    "# Check for presence of NaN values\n",
    "print(\"Post‐filter shape:\", mutations_data_clean.shape)\n",
    "print(mutations_data_clean[[signal_col, \"H\", \"E\", \"P\"]].isna().sum())"
   ]
  },
  {
   "cell_type": "markdown",
   "id": "0c220a00-e705-4557-8066-dd7e1517da12",
   "metadata": {},
   "source": [
    "<p style=\"font-size:18px;\"> At this stage, the mutations dataset has been cleaned to include only standardized HER2, ER, and PR status labels, binary receptor indicators, and the primary HER2 pathway activity measurement, with all other columns removed. Our mutations data looks fully clean (543 samples with no missing core values). Let's complete the drug side, but before that, a little evidence for our choices! </p>"
   ]
  },
  {
   "cell_type": "markdown",
   "id": "02b80250-fc2c-43dd-9f82-d82ba2ea8e57",
   "metadata": {},
   "source": [
    "#### 3.2.2. Why these columns (evidence-based rationale)?"
   ]
  },
  {
   "cell_type": "markdown",
   "id": "283291af-3afd-46d3-857e-a9d2096df776",
   "metadata": {},
   "source": [
    "<p style=\"font-size:22px;\"> A) Study aim & pre-specification </p>"
   ]
  },
  {
   "cell_type": "markdown",
   "id": "ba2fe6db-c2ce-4086-857f-a148931f34bb",
   "metadata": {},
   "source": [
    "<p style=\"font-size:18px;\"> Our hypotheses target three constructs: (i) HER2 pathway activity in the tumor (pp_HER2), (ii) clinical HER2 label (her2_final_status), (iii) drug potency in vitro (viability). To avoid a \"garden of forking paths\" and inflated false positives, we pre-specified analyses using variables that directly instantiate those constructs. Everything else was evaluated against the criteria below and excluded if it did not improve construct validity or would require a different modeling design. </p>"
   ]
  },
  {
   "cell_type": "markdown",
   "id": "da3ec387-fd38-4613-bdee-ae98c5da6891",
   "metadata": {},
   "source": [
    "<p style=\"font-size:22px;\"> B) Inclusion criteria (what we kept) </p> "
   ]
  },
  {
   "cell_type": "markdown",
   "id": "b5aaadb3-9280-4816-99d6-f48580aab8d2",
   "metadata": {},
   "source": [
    "<p style=\"font-size:18px;\"> Primary signal: pp_HER2 (or pp_HER2_pY1248) as the HER2 pathway readout; Labels: her2_final_status, er_status, pr_status (Positive/Negative); Outcome proxy: vital_status encoded 0=alive/1=deceased; Drug response: drug_name, dose, viability (fraction 0-1), cosmic_id for per-line aggregation. </p>"
   ]
  },
  {
   "cell_type": "markdown",
   "id": "04f5bd80-3058-44dc-bd09-ea603065aeb8",
   "metadata": {},
   "source": [
    "<p style=\"font-size:22px;\"> C) Exclusion criteria (what and why we removed) </p> "
   ]
  },
  {
   "cell_type": "markdown",
   "id": "d3cb41a4-62bb-4388-b2a5-3534513927fa",
   "metadata": {},
   "source": [
    "<p style=\"font-size:18px;\"> Our tumor (mutations) table had 705 samples x 1,941 columns. It contained a handful of clinical labels (HER2/ER/PR/vital status/histology) plus several large feature blocks: 223 phospho/protein \"pp_\" signals (including pp_HER2 and pp_HER2.pY1248), 604 expression-like \"rs_\" features, 860 copy-number \"cn_\" features, and 249 per-gene mutation flags (\"mu_\"). We kept exactly the five fields that instantiate our hypotheses - pp_HER2 (pathway activity), HER2.Final.Status, ER.Status, PR.Status, and vital.status - because they are the minimal set needed to test (i) survival vs pathway activity, (ii) targeted vs comparator drug potency (via linking to cell lines), and (iii) concordance of clinical HER2 status with pathway level. Everything else was evaluated against the evidence below."
   ]
  },
  {
   "cell_type": "code",
   "execution_count": 15,
   "id": "3aa6779c-dad3-436a-9223-97c6d2083e87",
   "metadata": {},
   "outputs": [
    {
     "name": "stdout",
     "output_type": "stream",
     "text": [
      "Blocks by prefix - pp_: 223, rs_: 604, cn_: 860, mu_: 249\n"
     ]
    }
   ],
   "source": [
    "pp_cnt = sum(c.lower().startswith(\"pp_\") for c in mutations_data.columns)\n",
    "rs_cnt = sum(c.lower().startswith(\"rs_\") for c in mutations_data.columns)\n",
    "cn_cnt = sum(c.lower().startswith(\"cn_\") for c in mutations_data.columns)\n",
    "mu_cnt = sum(c.lower().startswith(\"mu_\") for c in mutations_data.columns)\n",
    "print(f\"Blocks by prefix - pp_: {pp_cnt}, rs_: {rs_cnt}, cn_: {cn_cnt}, mu_: {mu_cnt}\")"
   ]
  },
  {
   "cell_type": "markdown",
   "id": "f7babf6b-2f18-4dd4-bfbe-5b2c62d313aa",
   "metadata": {},
   "source": [
    "<p style=\"font-size:18px;\"> There are two HER2 pathway columns: pp_HER2 and pp_HER2.pY1248. On complete cases they are strongly correlated (r = 0.854). Keeping both would double-encode the same construct and blur interpretation. We therefore pre-specify pp_HER2 as canonical, while noting that substituting pY1248 would not change the qualitative direction implied by this correlation. </p>"
   ]
  },
  {
   "cell_type": "code",
   "execution_count": 16,
   "id": "ce6821fb-374b-43aa-aca6-06b2403c8833",
   "metadata": {},
   "outputs": [
    {
     "name": "stdout",
     "output_type": "stream",
     "text": [
      "Complete pairs: 705\n",
      "Correlation r(pp_HER2, pp_HER2.pY1248): 0.854\n"
     ]
    }
   ],
   "source": [
    "pp1, pp2 = \"pp_HER2\", \"pp_HER2.pY1248\"\n",
    "\n",
    "if pp1 in mutations_data.columns and pp2 in mutations_data.columns:\n",
    "    a = pd.to_numeric(mutations_data[pp1], errors=\"coerce\")\n",
    "    b = pd.to_numeric(mutations_data[pp2], errors=\"coerce\")\n",
    "    mask = a.notna() & b.notna()\n",
    "    print(\"Complete pairs:\", int(mask.sum()))\n",
    "    print(\"Correlation r(pp_HER2, pp_HER2.pY1248):\", round(a[mask].corr(b[mask]), 3))\n",
    "else:\n",
    "    print(\"Alternative HER2 signal not available to compare.\")"
   ]
  },
  {
   "cell_type": "markdown",
   "id": "977e28f8-bb50-4655-8abd-80789325f908",
   "metadata": {},
   "source": [
    "<p style=\"font-size:18px;\"> The clinical fields are not purely binary. For ER.Status, only Positive (414) and Negative (135) are binary; 22% are \"NA / Not Performed / Performed but Not Available / Indeterminate\". PR.Status shows 23% non-binary or missing; HER2.Final.Status has 23.0% non-binary/missing (\"Equivocal\", \"Not Available\"). To avoid bias, we analyze Positive vs Negative and treat the rest as missing rather than coding them as true negatives. Receipts: the audit cell prints the top counts for each label along with the non-binary/NA share for ER (22%), PR (23%), and HER2 (23%). </p>"
   ]
  },
  {
   "cell_type": "code",
   "execution_count": 17,
   "id": "3c31d026-4100-4293-aa01-06029fad3611",
   "metadata": {},
   "outputs": [
    {
     "name": "stdout",
     "output_type": "stream",
     "text": [
      "\n",
      "ER.Status counts (top):\n",
      "ER.Status\n",
      "Positive                       414\n",
      "Negative                       135\n",
      "NaN                            122\n",
      "Not Performed                   27\n",
      "Performed but Not Available      5\n",
      "Indeterminate                    2\n",
      "Name: count, dtype: int64\n",
      "Non-binary/NA share for ER.Status: 22.1%\n",
      "\n",
      "PR.Status counts (top):\n",
      "PR.Status\n",
      "Positive                       353\n",
      "Negative                       193\n",
      "NaN                            122\n",
      "Not Performed                   28\n",
      "Performed but Not Available      5\n",
      "Indeterminate                    4\n",
      "Name: count, dtype: int64\n",
      "Non-binary/NA share for PR.Status: 22.6%\n",
      "\n",
      "HER2.Final.Status counts (top):\n",
      "HER2.Final.Status\n",
      "Negative         457\n",
      "NaN              145\n",
      "Positive          86\n",
      "Equivocal          9\n",
      "Not Available      8\n",
      "Name: count, dtype: int64\n",
      "Non-binary/NA share for HER2.Final.Status: 23.0%\n"
     ]
    }
   ],
   "source": [
    "for col in [\"ER.Status\", \"PR.Status\", \"HER2.Final.Status\"]:\n",
    "    if col not in mutations_data.columns:\n",
    "        print(f\"{col} not present.\")\n",
    "        continue\n",
    "    vc = mutations_data[col].value_counts(dropna=False)\n",
    "    print(f\"\\n{col} counts (top):\")\n",
    "    print(vc.head(10))\n",
    "\n",
    "    allowed = {\"positive\", \"negative\"}\n",
    "    nonbin = mutations_data[col].astype(str).str.strip().str.lower().map(lambda x: x not in allowed).sum()\n",
    "    pct = nonbin / len(mutations_data)\n",
    "    print(f\"Non-binary/NA share for {col}: {pct:.1%}\")"
   ]
  },
  {
   "cell_type": "markdown",
   "id": "e0c1f69c-7dbb-4d64-848e-0e14ba8e0638",
   "metadata": {},
   "source": [
    "<p style=\"font-size:18px;\"> Histology is tidy with two levels: infiltrating ductal carcinoma (n=574) and infiltrating lobular carcinoma (n=131). The HER2-positive rate differs: ductal 17% (84/574) vs lobular 4% (2/131). Because histology is a determinant of HER2 labeling here, including it as a covariate would shift the primary target from an unadjusted association to an adjusted effect (a different estimand that should be pre-declared). We therefore keep histology for EDA and, if requested, run a clearly labeled sensitivity model (vital_status $\\sim$ z(pp_HER2) + histology) rather than co-mix it with the primary tests. </p>"
   ]
  },
  {
   "cell_type": "code",
   "execution_count": 18,
   "id": "66792118-6411-4de0-b2ff-047e0db5d9f4",
   "metadata": {},
   "outputs": [
    {
     "name": "stdout",
     "output_type": "stream",
     "text": [
      "Histology levels (top):\n",
      "histological.type\n",
      "infiltrating ductal carcinoma     574\n",
      "infiltrating lobular carcinoma    131\n",
      "Name: count, dtype: int64\n",
      "\n",
      "HER2+ rate by histology:\n",
      "histological.type\n",
      "infiltrating ductal carcinoma     16.5%\n",
      "infiltrating lobular carcinoma     3.9%\n",
      "dtype: object\n"
     ]
    }
   ],
   "source": [
    "if {\"histological.type\",\"HER2.Final.Status\"}.issubset(mutations_data.columns):\n",
    "    hist_counts = mutations_data[\"histological.type\"].astype(str).str.strip().value_counts(dropna=False)\n",
    "    print(\"Histology levels (top):\")\n",
    "    print(hist_counts.head(10))\n",
    "\n",
    "    ct = pd.crosstab(mutations_data[\"histological.type\"], mutations_data[\"HER2.Final.Status\"])\n",
    "    if \"Positive\" in ct.columns:\n",
    "        rates = (ct[\"Positive\"] / ct.sum(axis=1)).sort_values(ascending=False)\n",
    "        print(\"\\nHER2+ rate by histology:\")\n",
    "        print((rates*100).round(1).astype(str) + \"%\")\n",
    "    else:\n",
    "        print(\"\\nNo 'Positive' column in HER2.Final.Status to compute rates.\")\n",
    "else:\n",
    "    print(\"Histology or HER2 status column missing.\")"
   ]
  },
  {
   "cell_type": "markdown",
   "id": "93d9b090-f5ec-4bb3-b607-6406537961d6",
   "metadata": {},
   "source": [
    "<p style=\"font-size:18px;\"> Across the 249 mutation indicators (mu_*), the mean prevalence is 3% and median 2.4%; 230/249 genes have < 5% positives. Flooding the model with dozens of ultra-rare binaries risks quasi-separation and requires a multiple-testing framework. We exclude mu_* from confirmatory tests; they are suitable for a separate exploratory analysis. </p>"
   ]
  },
  {
   "cell_type": "code",
   "execution_count": 19,
   "id": "6c0b0b79-c8d2-43fe-bd48-218f98810886",
   "metadata": {},
   "outputs": [
    {
     "name": "stdout",
     "output_type": "stream",
     "text": [
      "Number of mutation flag columns: 249\n",
      "Mean prevalence: 3.118% | Median prevalence: 2.411%\n",
      "Columns < 5% mutated: 230\n",
      "Columns < 1% mutated: 0\n"
     ]
    }
   ],
   "source": [
    "mu_cols = [c for c in mutations_data.columns if c.lower().startswith(\"mu_\")]\n",
    "if mu_cols:\n",
    "    # Treat any non-zero as mutated\n",
    "    prev = (mutations_data[mu_cols] != 0).sum(axis=0) / len(mutations_data)\n",
    "    print(\"Number of mutation flag columns:\", len(mu_cols))\n",
    "    print(\"Mean prevalence:\", f\"{prev.mean():.3%}\", \"| Median prevalence:\", f\"{prev.median():.3%}\")\n",
    "    print(\"Columns < 5% mutated:\", int((prev < 0.05).sum()))\n",
    "    print(\"Columns < 1% mutated:\", int((prev < 0.01).sum()))\n",
    "else:\n",
    "    print(\"No mu_* columns found.\")"
   ]
  },
  {
   "cell_type": "markdown",
   "id": "d8f79288-3212-4ab3-873e-bc610ac71d6a",
   "metadata": {},
   "source": [
    "<p style=\"font-size:18px;\"> The 860 cn_* and 604 rs_* features are valuable for broader omics exploration, but using them here would convert the study into a high-dimensional modeling exercise and risks adjusting away HER2-mediated biology. We keep the analysis focused on the single, pre-specified HER2 pathway readout and clinical labels to avoid a forking-paths problem. That is the final part of the Mutations Data Cleaning Process! Lets start with the Drug Data!"
   ]
  },
  {
   "cell_type": "markdown",
   "id": "cc51c6fd-865a-4045-bd94-f0614cba71e7",
   "metadata": {},
   "source": [
    "#### 3.2.3. Drug Data"
   ]
  },
  {
   "cell_type": "markdown",
   "id": "38be66a6-beed-4367-9616-f7d8142626f4",
   "metadata": {},
   "source": [
    "<p style=\"font-size:18px;\"> Let's move onto drug sensitivy data. We normalize, drop missing critical fields, filter, etc. </p>"
   ]
  },
  {
   "cell_type": "code",
   "execution_count": 20,
   "id": "1a141802-5015-43b3-877a-c6019c2f84d4",
   "metadata": {},
   "outputs": [
    {
     "data": {
      "text/html": [
       "<div>\n",
       "<style scoped>\n",
       "    .dataframe tbody tr th:only-of-type {\n",
       "        vertical-align: middle;\n",
       "    }\n",
       "\n",
       "    .dataframe tbody tr th {\n",
       "        vertical-align: top;\n",
       "    }\n",
       "\n",
       "    .dataframe thead th {\n",
       "        text-align: right;\n",
       "    }\n",
       "</style>\n",
       "<table border=\"1\" class=\"dataframe\">\n",
       "  <thead>\n",
       "    <tr style=\"text-align: right;\">\n",
       "      <th></th>\n",
       "      <th>name</th>\n",
       "      <th>dtype</th>\n",
       "      <th>non_null</th>\n",
       "      <th>null_pct</th>\n",
       "      <th>n_unique</th>\n",
       "      <th>example</th>\n",
       "    </tr>\n",
       "  </thead>\n",
       "  <tbody>\n",
       "    <tr>\n",
       "      <th>0</th>\n",
       "      <td>DRUG_ID</td>\n",
       "      <td>int64</td>\n",
       "      <td>4049857</td>\n",
       "      <td>0.00</td>\n",
       "      <td>453</td>\n",
       "      <td>1007</td>\n",
       "    </tr>\n",
       "    <tr>\n",
       "      <th>1</th>\n",
       "      <td>COSMIC_ID</td>\n",
       "      <td>int64</td>\n",
       "      <td>4049857</td>\n",
       "      <td>0.00</td>\n",
       "      <td>990</td>\n",
       "      <td>924238</td>\n",
       "    </tr>\n",
       "    <tr>\n",
       "      <th>2</th>\n",
       "      <td>dose</td>\n",
       "      <td>float64</td>\n",
       "      <td>4049857</td>\n",
       "      <td>0.00</td>\n",
       "      <td>279</td>\n",
       "      <td>0.0125</td>\n",
       "    </tr>\n",
       "    <tr>\n",
       "      <th>3</th>\n",
       "      <td>viability</td>\n",
       "      <td>float64</td>\n",
       "      <td>4049857</td>\n",
       "      <td>0.00</td>\n",
       "      <td>2454751</td>\n",
       "      <td>0.183654</td>\n",
       "    </tr>\n",
       "    <tr>\n",
       "      <th>4</th>\n",
       "      <td>DATASET</td>\n",
       "      <td>object</td>\n",
       "      <td>4049857</td>\n",
       "      <td>0.00</td>\n",
       "      <td>2</td>\n",
       "      <td>GDSC1</td>\n",
       "    </tr>\n",
       "    <tr>\n",
       "      <th>5</th>\n",
       "      <td>ARXSPAN_ID</td>\n",
       "      <td>object</td>\n",
       "      <td>3950441</td>\n",
       "      <td>2.45</td>\n",
       "      <td>974</td>\n",
       "      <td>ACH-002148</td>\n",
       "    </tr>\n",
       "    <tr>\n",
       "      <th>6</th>\n",
       "      <td>DRUG_NAME</td>\n",
       "      <td>object</td>\n",
       "      <td>4049857</td>\n",
       "      <td>0.00</td>\n",
       "      <td>397</td>\n",
       "      <td>DOCETAXEL</td>\n",
       "    </tr>\n",
       "    <tr>\n",
       "      <th>7</th>\n",
       "      <td>BROAD_ID</td>\n",
       "      <td>object</td>\n",
       "      <td>3152495</td>\n",
       "      <td>22.16</td>\n",
       "      <td>286</td>\n",
       "      <td>BRD-K30577245, BRD-A05821830, BRD-K63265447, B...</td>\n",
       "    </tr>\n",
       "  </tbody>\n",
       "</table>\n",
       "</div>"
      ],
      "text/plain": [
       "         name    dtype  non_null  null_pct  n_unique  \\\n",
       "0     DRUG_ID    int64   4049857      0.00       453   \n",
       "1   COSMIC_ID    int64   4049857      0.00       990   \n",
       "2        dose  float64   4049857      0.00       279   \n",
       "3   viability  float64   4049857      0.00   2454751   \n",
       "4     DATASET   object   4049857      0.00         2   \n",
       "5  ARXSPAN_ID   object   3950441      2.45       974   \n",
       "6   DRUG_NAME   object   4049857      0.00       397   \n",
       "7    BROAD_ID   object   3152495     22.16       286   \n",
       "\n",
       "                                             example  \n",
       "0                                               1007  \n",
       "1                                             924238  \n",
       "2                                             0.0125  \n",
       "3                                           0.183654  \n",
       "4                                              GDSC1  \n",
       "5                                         ACH-002148  \n",
       "6                                          DOCETAXEL  \n",
       "7  BRD-K30577245, BRD-A05821830, BRD-K63265447, B...  "
      ]
     },
     "execution_count": 20,
     "metadata": {},
     "output_type": "execute_result"
    }
   ],
   "source": [
    "cols = drug_sensitivity_data.columns\n",
    "out = []\n",
    "\n",
    "for c in cols:\n",
    "    ser = drug_sensitivity_data[c]\n",
    "    non_null = ser.notna().sum()\n",
    "    null_pct = 100.0 * (1.0 - non_null / max(len(drug_sensitivity_data), 1))\n",
    "    try:\n",
    "        ex = ser.dropna().iloc[0]\n",
    "    except Exception:\n",
    "        ex = None\n",
    "        \n",
    "    out.append({\n",
    "        \"name\": c,\n",
    "        \"dtype\": str(ser.dtype),\n",
    "        \"non_null\": int(non_null),\n",
    "        \"null_pct\": round(null_pct, 2),\n",
    "        \"n_unique\": int(ser.nunique(dropna=True)),\n",
    "        \"example\": ex\n",
    "    })\n",
    "    \n",
    "table = pd.DataFrame(out)\n",
    "table"
   ]
  },
  {
   "cell_type": "markdown",
   "id": "5f6cc1bb-1e9b-48ef-a0e5-afc9e335619b",
   "metadata": {},
   "source": [
    "<p style=\"font-size:18px;\"> Now I present the drug dataset cleaning and numeric validation for it in code.<br>\n",
    "The function <code>clean_drugs()</code> takes: </p>\n",
    "<ul>\n",
    "  <li><b>drug_df</b> – raw drug sensitivity dataframe.</li>\n",
    "</ul>\n",
    "<p style=\"font-size:18px;\"> The function <code>validate_drugs_numeric()</code> takes: </p>\n",
    "<ul>\n",
    "  <li><b>df</b> – cleaned drug dataframe (after <code>clean_drugs()</code>).</li>\n",
    "  <li><b>clip_viability</b> – lower/upper bounds to clip viability (default <code>(0, 200)</code>).</li>\n",
    "  <li><b>min_dose</b> – minimum allowed dose value (default <code>0</code>).</li>\n",
    "  <li><b>keep_zero_dose</b> – keep rows where dose equals 0 (default <code>True</code>).</li>\n",
    "</ul>"
   ]
  },
  {
   "cell_type": "code",
   "execution_count": 21,
   "id": "f6efefda-0db1-4c79-8500-e21f6121cc29",
   "metadata": {},
   "outputs": [
    {
     "data": {
      "text/html": [
       "<div>\n",
       "<style scoped>\n",
       "    .dataframe tbody tr th:only-of-type {\n",
       "        vertical-align: middle;\n",
       "    }\n",
       "\n",
       "    .dataframe tbody tr th {\n",
       "        vertical-align: top;\n",
       "    }\n",
       "\n",
       "    .dataframe thead th {\n",
       "        text-align: right;\n",
       "    }\n",
       "</style>\n",
       "<table border=\"1\" class=\"dataframe\">\n",
       "  <thead>\n",
       "    <tr style=\"text-align: right;\">\n",
       "      <th></th>\n",
       "      <th>cosmic_id</th>\n",
       "      <th>drug_name</th>\n",
       "      <th>dose</th>\n",
       "      <th>viability</th>\n",
       "    </tr>\n",
       "  </thead>\n",
       "  <tbody>\n",
       "    <tr>\n",
       "      <th>0</th>\n",
       "      <td>924238</td>\n",
       "      <td>docetaxel</td>\n",
       "      <td>0.012500</td>\n",
       "      <td>0.183654</td>\n",
       "    </tr>\n",
       "    <tr>\n",
       "      <th>1</th>\n",
       "      <td>924238</td>\n",
       "      <td>docetaxel</td>\n",
       "      <td>0.006250</td>\n",
       "      <td>0.104707</td>\n",
       "    </tr>\n",
       "    <tr>\n",
       "      <th>2</th>\n",
       "      <td>924238</td>\n",
       "      <td>docetaxel</td>\n",
       "      <td>0.003125</td>\n",
       "      <td>0.282676</td>\n",
       "    </tr>\n",
       "    <tr>\n",
       "      <th>3</th>\n",
       "      <td>924238</td>\n",
       "      <td>docetaxel</td>\n",
       "      <td>0.001563</td>\n",
       "      <td>0.325207</td>\n",
       "    </tr>\n",
       "    <tr>\n",
       "      <th>4</th>\n",
       "      <td>924238</td>\n",
       "      <td>docetaxel</td>\n",
       "      <td>0.000781</td>\n",
       "      <td>0.526366</td>\n",
       "    </tr>\n",
       "    <tr>\n",
       "      <th>...</th>\n",
       "      <td>...</td>\n",
       "      <td>...</td>\n",
       "      <td>...</td>\n",
       "      <td>...</td>\n",
       "    </tr>\n",
       "    <tr>\n",
       "      <th>4049852</th>\n",
       "      <td>908120</td>\n",
       "      <td>sb-216763</td>\n",
       "      <td>0.039062</td>\n",
       "      <td>0.941186</td>\n",
       "    </tr>\n",
       "    <tr>\n",
       "      <th>4049853</th>\n",
       "      <td>908120</td>\n",
       "      <td>sb-216763</td>\n",
       "      <td>0.009766</td>\n",
       "      <td>0.980837</td>\n",
       "    </tr>\n",
       "    <tr>\n",
       "      <th>4049854</th>\n",
       "      <td>908120</td>\n",
       "      <td>ku-55933</td>\n",
       "      <td>2.500000</td>\n",
       "      <td>1.000000</td>\n",
       "    </tr>\n",
       "    <tr>\n",
       "      <th>4049855</th>\n",
       "      <td>908120</td>\n",
       "      <td>ku-55933</td>\n",
       "      <td>5.000000</td>\n",
       "      <td>1.000000</td>\n",
       "    </tr>\n",
       "    <tr>\n",
       "      <th>4049856</th>\n",
       "      <td>908120</td>\n",
       "      <td>ku-55933</td>\n",
       "      <td>10.000000</td>\n",
       "      <td>0.937246</td>\n",
       "    </tr>\n",
       "  </tbody>\n",
       "</table>\n",
       "<p>4049857 rows × 4 columns</p>\n",
       "</div>"
      ],
      "text/plain": [
       "         cosmic_id  drug_name       dose  viability\n",
       "0           924238  docetaxel   0.012500   0.183654\n",
       "1           924238  docetaxel   0.006250   0.104707\n",
       "2           924238  docetaxel   0.003125   0.282676\n",
       "3           924238  docetaxel   0.001563   0.325207\n",
       "4           924238  docetaxel   0.000781   0.526366\n",
       "...            ...        ...        ...        ...\n",
       "4049852     908120  sb-216763   0.039062   0.941186\n",
       "4049853     908120  sb-216763   0.009766   0.980837\n",
       "4049854     908120   ku-55933   2.500000   1.000000\n",
       "4049855     908120   ku-55933   5.000000   1.000000\n",
       "4049856     908120   ku-55933  10.000000   0.937246\n",
       "\n",
       "[4049857 rows x 4 columns]"
      ]
     },
     "execution_count": 21,
     "metadata": {},
     "output_type": "execute_result"
    }
   ],
   "source": [
    "drug_data_clean = u.clean_drugs(drug_sensitivity_data)\n",
    "drug_data_clean = u.validate_drugs_numeric(drug_data_clean)\n",
    "drug_data_clean"
   ]
  },
  {
   "cell_type": "code",
   "execution_count": 22,
   "id": "cd39a93f-eae1-4b05-95f0-ec483fd8e3c4",
   "metadata": {},
   "outputs": [
    {
     "data": {
      "text/plain": [
       "cosmic_id      int64\n",
       "drug_name     object\n",
       "dose         float64\n",
       "viability    float64\n",
       "dtype: object"
      ]
     },
     "execution_count": 22,
     "metadata": {},
     "output_type": "execute_result"
    }
   ],
   "source": [
    "drug_data_clean.dtypes"
   ]
  },
  {
   "cell_type": "markdown",
   "id": "5b35c455-8209-46e4-910b-9384a7f9391c",
   "metadata": {},
   "source": [
    "<p style=\"font-size:18px;\"> Before we trim the drug‐sensitivity table down to its essential four columns, it's worth pausing to consider why each of the other fields isn't needed for our core analyses. Columns like `DRUG_ID`, `ARXSPAN_ID`, and `BROAD_ID` are simply alternate identifiers for the same compound - they don't add new biological information beyond the human‐readable `DRUG_NAME`. Likewise, `DATASET` tells us which source the measurement came from, which can be important for bookkeeping later but isn't required for now. By focusing on `COSMIC_ID` (a unique identifier for a cancer cell line in the COSMIC database - short for the Catalogue Of Somatic Mutations In Cancer), `DRUG_NAME` (our grouping variable), `dose` (the independent variable), and `viability` (the dependent response), we avoid unnecessary complexity. </p>"
   ]
  },
  {
   "cell_type": "code",
   "execution_count": 23,
   "id": "db4abdf7-bf92-49dc-8e26-78f22383a58f",
   "metadata": {},
   "outputs": [
    {
     "name": "stdout",
     "output_type": "stream",
     "text": [
      "\n",
      "cosmic_id value counts:\n",
      "cosmic_id\n",
      "905962     26702\n",
      "753608     25926\n",
      "906793     25463\n",
      "905939     25091\n",
      "906830     23869\n",
      "           ...  \n",
      "1331030      387\n",
      "753597       369\n",
      "924189       225\n",
      "949092       225\n",
      "688022        18\n",
      "Name: count, Length: 990, dtype: int64\n",
      "\n",
      "drug_name value counts:\n",
      "drug_name\n",
      "afatinib      45417\n",
      "linsitinib    37229\n",
      "plx-4720      33620\n",
      "pd-0325901    33604\n",
      "docetaxel     32793\n",
      "              ...  \n",
      "zg-10          2845\n",
      "hg-5-88-01     2841\n",
      "xmd11-85h      2780\n",
      "ql-xii-61      2642\n",
      "ribociclib     1176\n",
      "Name: count, Length: 397, dtype: int64\n",
      "\n",
      "dose value counts:\n",
      "dose\n",
      "10.000000    215554\n",
      "2.500000     129394\n",
      "0.625000     125528\n",
      "5.000000     124156\n",
      "0.156250     124043\n",
      "              ...  \n",
      "0.187500         21\n",
      "1.500000         20\n",
      "0.023438         20\n",
      "0.046875         19\n",
      "0.093750         19\n",
      "Name: count, Length: 279, dtype: int64\n",
      "\n",
      "viability value counts:\n",
      "viability\n",
      "1.000000    1110212\n",
      "0.000000       3873\n",
      "0.925330         24\n",
      "0.961558         24\n",
      "0.973633         20\n",
      "             ...   \n",
      "0.945168          1\n",
      "0.913439          1\n",
      "0.988759          1\n",
      "0.980837          1\n",
      "0.937246          1\n",
      "Name: count, Length: 2454751, dtype: int64\n"
     ]
    }
   ],
   "source": [
    "for col in drug_data_clean.columns:\n",
    "    print(f\"\\n{col} value counts:\")\n",
    "    print(drug_data_clean[col].value_counts(dropna=False))"
   ]
  },
  {
   "cell_type": "code",
   "execution_count": 24,
   "id": "e810da6c-1078-4bc5-bdf0-1b66bafcf24f",
   "metadata": {},
   "outputs": [],
   "source": [
    "# Ensure viability is on [0,1] (convert % -> fraction if needed)\n",
    "q90 = drug_data_clean[\"viability\"].dropna().quantile(0.9)\n",
    "if q90 > 1.5:\n",
    "    drug_data_clean[\"viability\"] = drug_data_clean[\"viability\"] / 100.0"
   ]
  },
  {
   "cell_type": "code",
   "execution_count": 25,
   "id": "faee2b4e-d1cb-4ca4-a04a-a93c061af086",
   "metadata": {},
   "outputs": [
    {
     "data": {
      "text/html": [
       "<div>\n",
       "<style scoped>\n",
       "    .dataframe tbody tr th:only-of-type {\n",
       "        vertical-align: middle;\n",
       "    }\n",
       "\n",
       "    .dataframe tbody tr th {\n",
       "        vertical-align: top;\n",
       "    }\n",
       "\n",
       "    .dataframe thead th {\n",
       "        text-align: right;\n",
       "    }\n",
       "</style>\n",
       "<table border=\"1\" class=\"dataframe\">\n",
       "  <thead>\n",
       "    <tr style=\"text-align: right;\">\n",
       "      <th></th>\n",
       "      <th>cosmic_id</th>\n",
       "      <th>drug_name</th>\n",
       "      <th>dose</th>\n",
       "      <th>viability</th>\n",
       "    </tr>\n",
       "  </thead>\n",
       "  <tbody>\n",
       "    <tr>\n",
       "      <th>0</th>\n",
       "      <td>924238</td>\n",
       "      <td>docetaxel</td>\n",
       "      <td>0.012500</td>\n",
       "      <td>0.183654</td>\n",
       "    </tr>\n",
       "    <tr>\n",
       "      <th>1</th>\n",
       "      <td>924238</td>\n",
       "      <td>docetaxel</td>\n",
       "      <td>0.006250</td>\n",
       "      <td>0.104707</td>\n",
       "    </tr>\n",
       "    <tr>\n",
       "      <th>2</th>\n",
       "      <td>924238</td>\n",
       "      <td>docetaxel</td>\n",
       "      <td>0.003125</td>\n",
       "      <td>0.282676</td>\n",
       "    </tr>\n",
       "    <tr>\n",
       "      <th>3</th>\n",
       "      <td>924238</td>\n",
       "      <td>docetaxel</td>\n",
       "      <td>0.001563</td>\n",
       "      <td>0.325207</td>\n",
       "    </tr>\n",
       "    <tr>\n",
       "      <th>4</th>\n",
       "      <td>924238</td>\n",
       "      <td>docetaxel</td>\n",
       "      <td>0.000781</td>\n",
       "      <td>0.526366</td>\n",
       "    </tr>\n",
       "    <tr>\n",
       "      <th>...</th>\n",
       "      <td>...</td>\n",
       "      <td>...</td>\n",
       "      <td>...</td>\n",
       "      <td>...</td>\n",
       "    </tr>\n",
       "    <tr>\n",
       "      <th>4049852</th>\n",
       "      <td>908120</td>\n",
       "      <td>sb-216763</td>\n",
       "      <td>0.039062</td>\n",
       "      <td>0.941186</td>\n",
       "    </tr>\n",
       "    <tr>\n",
       "      <th>4049853</th>\n",
       "      <td>908120</td>\n",
       "      <td>sb-216763</td>\n",
       "      <td>0.009766</td>\n",
       "      <td>0.980837</td>\n",
       "    </tr>\n",
       "    <tr>\n",
       "      <th>4049854</th>\n",
       "      <td>908120</td>\n",
       "      <td>ku-55933</td>\n",
       "      <td>2.500000</td>\n",
       "      <td>1.000000</td>\n",
       "    </tr>\n",
       "    <tr>\n",
       "      <th>4049855</th>\n",
       "      <td>908120</td>\n",
       "      <td>ku-55933</td>\n",
       "      <td>5.000000</td>\n",
       "      <td>1.000000</td>\n",
       "    </tr>\n",
       "    <tr>\n",
       "      <th>4049856</th>\n",
       "      <td>908120</td>\n",
       "      <td>ku-55933</td>\n",
       "      <td>10.000000</td>\n",
       "      <td>0.937246</td>\n",
       "    </tr>\n",
       "  </tbody>\n",
       "</table>\n",
       "<p>4049857 rows × 4 columns</p>\n",
       "</div>"
      ],
      "text/plain": [
       "         cosmic_id  drug_name       dose  viability\n",
       "0           924238  docetaxel   0.012500   0.183654\n",
       "1           924238  docetaxel   0.006250   0.104707\n",
       "2           924238  docetaxel   0.003125   0.282676\n",
       "3           924238  docetaxel   0.001563   0.325207\n",
       "4           924238  docetaxel   0.000781   0.526366\n",
       "...            ...        ...        ...        ...\n",
       "4049852     908120  sb-216763   0.039062   0.941186\n",
       "4049853     908120  sb-216763   0.009766   0.980837\n",
       "4049854     908120   ku-55933   2.500000   1.000000\n",
       "4049855     908120   ku-55933   5.000000   1.000000\n",
       "4049856     908120   ku-55933  10.000000   0.937246\n",
       "\n",
       "[4049857 rows x 4 columns]"
      ]
     },
     "execution_count": 25,
     "metadata": {},
     "output_type": "execute_result"
    }
   ],
   "source": [
    "drug_data_clean"
   ]
  },
  {
   "cell_type": "markdown",
   "id": "2dd42612-43c4-4395-a24b-9f69e257f1d0",
   "metadata": {},
   "source": [
    "<p style=\"font-size:18px;\"> With these steps complete, both of our core datasets are now fully cleaned and harmonized for downstream analysis. In the mutations table, we normalized and filtered `HER2` labels to only \"Positive\" or \"Negative\" created binary indicators (`H` and `E`), selected and de-duplicated the primary HER2 pathway signal (`pp_her2` or `pp_her2_py1248`), and carried forward contextual columns for `ER/PR status`, `survival`, and `histology` - dropping any samples with missing key values. In the drug-sensitivity table, we standardized `drug_name` and retained only the essential identifiers (`cosmic_id`). All columns have been converted to clean snake_case, and every row now contains exactly the information we need. With no remaining missing or malformed values in these critical fields, we are finished. We print a report to check out if we missed anything. </p>"
   ]
  },
  {
   "cell_type": "markdown",
   "id": "76464f37-9123-4fde-bdf8-19e98a9dd68e",
   "metadata": {},
   "source": [
    "<p style=\"font-size:18px;\"> Now I present the missingness snapshot in code.<br>\n",
    "The function <code>missingness_report()</code> takes: </p>\n",
    "<ul>\n",
    "  <li><b>df</b> – any dataframe (mutations or drug).</li>\n",
    "  <li><b>top_n</b> – how many rows (columns) to show, ordered by missingness (default <code>25</code>).</li>\n",
    "</ul>"
   ]
  },
  {
   "cell_type": "code",
   "execution_count": 26,
   "id": "ae884128-1bdc-4835-9148-8dbc72234731",
   "metadata": {},
   "outputs": [
    {
     "data": {
      "text/html": [
       "<div>\n",
       "<style scoped>\n",
       "    .dataframe tbody tr th:only-of-type {\n",
       "        vertical-align: middle;\n",
       "    }\n",
       "\n",
       "    .dataframe tbody tr th {\n",
       "        vertical-align: top;\n",
       "    }\n",
       "\n",
       "    .dataframe thead th {\n",
       "        text-align: right;\n",
       "    }\n",
       "</style>\n",
       "<table border=\"1\" class=\"dataframe\">\n",
       "  <thead>\n",
       "    <tr style=\"text-align: right;\">\n",
       "      <th></th>\n",
       "      <th>column</th>\n",
       "      <th>null_pct</th>\n",
       "      <th>n_unique</th>\n",
       "      <th>example</th>\n",
       "    </tr>\n",
       "  </thead>\n",
       "  <tbody>\n",
       "    <tr>\n",
       "      <th>0</th>\n",
       "      <td>her2_final_status</td>\n",
       "      <td>0.0</td>\n",
       "      <td>2</td>\n",
       "      <td>Negative</td>\n",
       "    </tr>\n",
       "    <tr>\n",
       "      <th>1</th>\n",
       "      <td>pp_her2</td>\n",
       "      <td>0.0</td>\n",
       "      <td>507</td>\n",
       "      <td>0.001087</td>\n",
       "    </tr>\n",
       "    <tr>\n",
       "      <th>2</th>\n",
       "      <td>er_status</td>\n",
       "      <td>0.0</td>\n",
       "      <td>2</td>\n",
       "      <td>Positive</td>\n",
       "    </tr>\n",
       "    <tr>\n",
       "      <th>3</th>\n",
       "      <td>pr_status</td>\n",
       "      <td>0.0</td>\n",
       "      <td>2</td>\n",
       "      <td>Positive</td>\n",
       "    </tr>\n",
       "    <tr>\n",
       "      <th>4</th>\n",
       "      <td>vital_status</td>\n",
       "      <td>0.0</td>\n",
       "      <td>2</td>\n",
       "      <td>0</td>\n",
       "    </tr>\n",
       "    <tr>\n",
       "      <th>5</th>\n",
       "      <td>histological_type</td>\n",
       "      <td>0.0</td>\n",
       "      <td>2</td>\n",
       "      <td>infiltrating ductal carcinoma</td>\n",
       "    </tr>\n",
       "    <tr>\n",
       "      <th>6</th>\n",
       "      <td>H</td>\n",
       "      <td>0.0</td>\n",
       "      <td>2</td>\n",
       "      <td>0</td>\n",
       "    </tr>\n",
       "    <tr>\n",
       "      <th>7</th>\n",
       "      <td>E</td>\n",
       "      <td>0.0</td>\n",
       "      <td>2</td>\n",
       "      <td>1</td>\n",
       "    </tr>\n",
       "    <tr>\n",
       "      <th>8</th>\n",
       "      <td>P</td>\n",
       "      <td>0.0</td>\n",
       "      <td>2</td>\n",
       "      <td>1</td>\n",
       "    </tr>\n",
       "  </tbody>\n",
       "</table>\n",
       "</div>"
      ],
      "text/plain": [
       "              column  null_pct  n_unique                        example\n",
       "0  her2_final_status       0.0         2                       Negative\n",
       "1            pp_her2       0.0       507                       0.001087\n",
       "2          er_status       0.0         2                       Positive\n",
       "3          pr_status       0.0         2                       Positive\n",
       "4       vital_status       0.0         2                              0\n",
       "5  histological_type       0.0         2  infiltrating ductal carcinoma\n",
       "6                  H       0.0         2                              0\n",
       "7                  E       0.0         2                              1\n",
       "8                  P       0.0         2                              1"
      ]
     },
     "metadata": {},
     "output_type": "display_data"
    },
    {
     "data": {
      "text/html": [
       "<div>\n",
       "<style scoped>\n",
       "    .dataframe tbody tr th:only-of-type {\n",
       "        vertical-align: middle;\n",
       "    }\n",
       "\n",
       "    .dataframe tbody tr th {\n",
       "        vertical-align: top;\n",
       "    }\n",
       "\n",
       "    .dataframe thead th {\n",
       "        text-align: right;\n",
       "    }\n",
       "</style>\n",
       "<table border=\"1\" class=\"dataframe\">\n",
       "  <thead>\n",
       "    <tr style=\"text-align: right;\">\n",
       "      <th></th>\n",
       "      <th>column</th>\n",
       "      <th>null_pct</th>\n",
       "      <th>n_unique</th>\n",
       "      <th>example</th>\n",
       "    </tr>\n",
       "  </thead>\n",
       "  <tbody>\n",
       "    <tr>\n",
       "      <th>0</th>\n",
       "      <td>cosmic_id</td>\n",
       "      <td>0.0</td>\n",
       "      <td>990</td>\n",
       "      <td>924238</td>\n",
       "    </tr>\n",
       "    <tr>\n",
       "      <th>1</th>\n",
       "      <td>drug_name</td>\n",
       "      <td>0.0</td>\n",
       "      <td>397</td>\n",
       "      <td>docetaxel</td>\n",
       "    </tr>\n",
       "    <tr>\n",
       "      <th>2</th>\n",
       "      <td>dose</td>\n",
       "      <td>0.0</td>\n",
       "      <td>279</td>\n",
       "      <td>0.0125</td>\n",
       "    </tr>\n",
       "    <tr>\n",
       "      <th>3</th>\n",
       "      <td>viability</td>\n",
       "      <td>0.0</td>\n",
       "      <td>2454751</td>\n",
       "      <td>0.183654</td>\n",
       "    </tr>\n",
       "  </tbody>\n",
       "</table>\n",
       "</div>"
      ],
      "text/plain": [
       "      column  null_pct  n_unique    example\n",
       "0  cosmic_id       0.0       990     924238\n",
       "1  drug_name       0.0       397  docetaxel\n",
       "2       dose       0.0       279     0.0125\n",
       "3  viability       0.0   2454751   0.183654"
      ]
     },
     "metadata": {},
     "output_type": "display_data"
    }
   ],
   "source": [
    "display(u.missingness_report(mutations_data_clean, top_n=20))\n",
    "display(u.missingness_report(drug_data_clean, top_n=20))"
   ]
  },
  {
   "cell_type": "markdown",
   "id": "3e60755d-834e-4e13-9876-32037cca83eb",
   "metadata": {},
   "source": [
    "#### 3.2.4. Why did we clean it this way?"
   ]
  },
  {
   "cell_type": "markdown",
   "id": "97f9eaa7-4d6b-46f6-bc51-974ff27a1589",
   "metadata": {},
   "source": [
    "<p style=\"font-size:18px;\"> Our drug file contains 4 049 857 rows x 8 columns. The analytical signal is fully captured by COSMIC_ID, DRUG_NAME, dose, and viability. We verified the viability scale is [0.0, 1.0] with 3873 zeros, 1110212 ones, and median 0.926; dose has 279 unique values with no negatives and no zero-dose rows (so \"controls\" must be identified by naming rather than dose==0). The remaining fields are identifiers/metadata: BROAD_ID (77.84% non-null, 286 uniques), ARXSPAN_ID (97.5% non-null, 974 uniques), and DATASET (two levels: GDSC1, GDSC2). These are useful for bookkeeping, not for potency inference."
   ]
  },
  {
   "cell_type": "code",
   "execution_count": 27,
   "id": "9ff7e8a0-146d-4e76-a1ce-0a2bfa1b1341",
   "metadata": {},
   "outputs": [
    {
     "name": "stdout",
     "output_type": "stream",
     "text": [
      "Drug rows: 4,049,857\n",
      "Viability range: [0, 1] | zeros: 3,873 | ones: 1,110,212 | median: 0.926\n",
      "Dose unique values: 279 | zero-dose rows: 0 | negatives: 0\n",
      "BROAD_ID - non-null: 77.84% | uniques: 286\n",
      "ARXSPAN_ID - non-null: 97.55% | uniques: 974\n",
      "DATASET - levels: ['GDSC1', 'GDSC2'] | non-null: 100.00%\n"
     ]
    }
   ],
   "source": [
    "DRUG_PATH = (\"../data/drug-sensitivity.csv\") \n",
    "usecols = [\"DRUG_ID\",\"COSMIC_ID\",\"dose\",\"viability\",\"DATASET\",\"ARXSPAN_ID\",\"DRUG_NAME\",\"BROAD_ID\"]\n",
    "\n",
    "total_rows = 0\n",
    "v_zeros = v_ones = 0\n",
    "v_min, v_max = np.inf, -np.inf\n",
    "viability_vals = []  \n",
    "dose_neg = dose_zero = 0\n",
    "dose_uniques = set()\n",
    "\n",
    "broad_nonnull = broad_null = 0\n",
    "broad_set = set()\n",
    "arx_nonnull = arx_null = 0\n",
    "arx_set = set()\n",
    "dataset_nonnull = dataset_null = 0\n",
    "dataset_set = set()\n",
    "\n",
    "for chunk in pd.read_csv(DRUG_PATH, usecols=usecols, chunksize=300000):\n",
    "    total_rows += len(chunk)\n",
    "\n",
    "    v = pd.to_numeric(chunk[\"viability\"], errors=\"coerce\")\n",
    "    v_zeros += int((v == 0).sum()); v_ones += int((v == 1).sum())\n",
    "    if v.notna().any():\n",
    "        v_min = min(v_min, float(v.min())); v_max = max(v_max, float(v.max()))\n",
    "        viability_vals.append(v.dropna().values)\n",
    "\n",
    "    d = pd.to_numeric(chunk[\"dose\"], errors=\"coerce\")\n",
    "    dose_neg += int((d < 0).sum()); dose_zero += int((d == 0).sum())\n",
    "    dose_uniques |= set(d.dropna().unique())\n",
    "\n",
    "    b = chunk[\"BROAD_ID\"]; bnn = b.notna()\n",
    "    broad_nonnull += int(bnn.sum()); broad_null += int((~bnn).sum())\n",
    "    broad_set |= set(b[bnn].astype(str).unique())\n",
    "\n",
    "    a = chunk[\"ARXSPAN_ID\"]; ann = a.notna()\n",
    "    arx_nonnull += int(ann.sum()); arx_null += int((~ann).sum())\n",
    "    arx_set |= set(a[ann].astype(str).unique())\n",
    "\n",
    "    ds = chunk[\"DATASET\"]; dnn = ds.notna()\n",
    "    dataset_nonnull += int(dnn.sum()); dataset_null += int((~dnn).sum())\n",
    "    dataset_set |= set(ds[dnn].astype(str).unique())\n",
    "\n",
    "v_all = np.concatenate(viability_vals) if viability_vals else np.array([])\n",
    "v_median = float(np.median(v_all)) if v_all.size else float(\"nan\")\n",
    "\n",
    "print(f\"Drug rows: {total_rows:,}\")\n",
    "print(f\"Viability range: [{v_min:.3g}, {v_max:.3g}] | zeros: {v_zeros:,} | ones: {v_ones:,} | median: {v_median:.3f}\")\n",
    "print(f\"Dose unique values: {len(dose_uniques)} | zero-dose rows: {dose_zero:,} | negatives: {dose_neg:,}\")\n",
    "\n",
    "broad_nonnull_pct = 100 * broad_nonnull / total_rows if total_rows else 0\n",
    "arx_nonnull_pct   = 100 * arx_nonnull / total_rows if total_rows else 0\n",
    "dataset_nonnull_pct = 100 * dataset_nonnull / total_rows if total_rows else 0\n",
    "\n",
    "print(f\"BROAD_ID - non-null: {broad_nonnull_pct:.2f}% | uniques: {len(broad_set)}\")\n",
    "print(f\"ARXSPAN_ID - non-null: {arx_nonnull_pct:.2f}% | uniques: {len(arx_set)}\")\n",
    "print(f\"DATASET - levels: {sorted(list(dataset_set))} | non-null: {dataset_nonnull_pct:.2f}%\")"
   ]
  },
  {
   "cell_type": "markdown",
   "id": "8e5e6f43-3212-48c0-87e7-92055c70c490",
   "metadata": {},
   "source": [
    "## 4. Exploratory Data Analysis"
   ]
  },
  {
   "cell_type": "markdown",
   "id": "6e18dddd-6749-49dd-ad3d-286d3e3be85b",
   "metadata": {},
   "source": [
    "### 4.1. Tumor Data EDA"
   ]
  },
  {
   "cell_type": "markdown",
   "id": "b2089745-ea4c-42b4-9d2b-6fed1eca21b6",
   "metadata": {},
   "source": [
    "#### 4.1.1. Clinical Label Summaries"
   ]
  },
  {
   "cell_type": "markdown",
   "id": "fd01ae2c-0316-45d4-ae50-794fd4a64383",
   "metadata": {},
   "source": [
    "<p style=\"font-size:18px;\"> We will explore the cleaned tumor (mutation) dataset to understand its key characteristics and confirm data quality before moving on to downstream modeling. First, we will summarize the distribution of each clinical label - HER2, ER, PR, vital status, and histology -to ensure our filtering produced the expected sizes. </p>"
   ]
  },
  {
   "cell_type": "markdown",
   "id": "1271490f-bef9-4e28-9cf6-72807aab1713",
   "metadata": {},
   "source": [
    "<p style=\"font-size:18px;\"> Now I present the categorical distribution in code.<br>\n",
    "The function <code>barplot_counts()</code> takes: </p>\n",
    "<ul>\n",
    "  <li><b>df</b> – input dataframe.</li>\n",
    "  <li><b>column</b> – categorical column to count.</li>\n",
    "  <li><b>title</b> – optional custom title.</li>\n",
    "</ul>"
   ]
  },
  {
   "cell_type": "code",
   "execution_count": 28,
   "id": "db174750-d08a-4fae-ba2e-a53e0970ba61",
   "metadata": {},
   "outputs": [
    {
     "data": {
      "image/png": "[encoded data removed]",
      "text/plain": [
       "<Figure size 640x480 with 1 Axes>"
      ]
     },
     "metadata": {},
     "output_type": "display_data"
    }
   ],
   "source": [
    "e.barplot_counts(mutations_data_clean, \"her2_final_status\", \"HER2 Status Counts\")"
   ]
  },
  {
   "cell_type": "markdown",
   "id": "cf621853-de4e-4254-9c9b-a66d520af768",
   "metadata": {},
   "source": [
    "<p style=\"font-size:18px;\"> As expected in a breast-cancer dataset, HER2-negative cases far outnumber HER2-positive ones. In our 543‐sample cohort, only about 15% are HER2-positive, while the remaining 85% are HER2-negative. In breast cancer, roughly 15-20% of tumors overexpress HER2. Seeing only 15% of our cohort as HER2-positive means our data mirror the real-world prevalence, so we haven't inadvertently biased the sample. This imbalance is typical and important to keep in mind: downstream comparisons of pathway activity or drug sensitivity will involve far fewer positive samples. </p>"
   ]
  },
  {
   "cell_type": "code",
   "execution_count": 29,
   "id": "f90a42ca-7e78-45f2-83ed-13ad8069bfc9",
   "metadata": {},
   "outputs": [
    {
     "data": {
      "image/png": "[encoded data removed]",
      "text/plain": [
       "<Figure size 640x480 with 1 Axes>"
      ]
     },
     "metadata": {},
     "output_type": "display_data"
    }
   ],
   "source": [
    "e.barplot_counts(mutations_data_clean, \"E\", \"ER Status Counts\")"
   ]
  },
  {
   "cell_type": "markdown",
   "id": "ca4c9bd8-a89c-4507-a060-5c2041233f50",
   "metadata": {},
   "source": [
    "<p style=\"font-size:18px;\"> The bar chart of ER status reveals that the vast majority of our cohort is ER-positive - around $\\frac{3}{4}$ of samples - while ER-negative cases account for roughly $\\frac{1}{4}$. This distribution aligns with clinical patterns, as most breast tumors rely on estrogen signaling. </p>"
   ]
  },
  {
   "cell_type": "code",
   "execution_count": 30,
   "id": "56028552-db5d-4b51-9934-62a4ae07e09f",
   "metadata": {},
   "outputs": [
    {
     "data": {
      "image/png": "[encoded data removed]",
      "text/plain": [
       "<Figure size 640x480 with 1 Axes>"
      ]
     },
     "metadata": {},
     "output_type": "display_data"
    }
   ],
   "source": [
    "e.barplot_counts(mutations_data_clean, \"P\", \"PR Status Counts\")"
   ]
  },
  {
   "cell_type": "markdown",
   "id": "df201a43-2d29-4c03-8d25-0ce0b5e72a3f",
   "metadata": {},
   "source": [
    "<p style=\"font-size:18px;\"> The PR status bar chart shows that the majority of tumors are PR-positive, indicating active progesterone signaling in most samples. Approximately $\\frac{1}{3}$ of cases are PR-negative, reflecting a substantial subgroup that lacks progesterone receptor expression. This distribution - similar to ER but with a higher proportion of negatives - highlights biological variability in hormone dependence across the cohort. </p>"
   ]
  },
  {
   "cell_type": "code",
   "execution_count": 31,
   "id": "f90ff72b-ca9e-4acb-b4da-7524beb810ac",
   "metadata": {},
   "outputs": [
    {
     "data": {
      "image/png": "[encoded data removed]",
      "text/plain": [
       "<Figure size 640x480 with 1 Axes>"
      ]
     },
     "metadata": {},
     "output_type": "display_data"
    }
   ],
   "source": [
    "e.barplot_counts(mutations_data_clean, \"vital_status\", \"Survival Status Counts\")"
   ]
  },
  {
   "cell_type": "markdown",
   "id": "ae26da6c-c3ff-4573-bcac-b7d78612def1",
   "metadata": {},
   "source": [
    "<p style=\"font-size:18px;\"> The survival‐status bar chart reveals that the vast majority of patients in our cohort are recorded as alive at last follow-up, with a smaller - but still substantial - fraction marked as deceased. This skew toward \"alive\" is expected in a mix of early- and late-stage samples, but it also highlights that downstream analyses of survival associations may be underpowered for the deceased group alone. </p>"
   ]
  },
  {
   "cell_type": "code",
   "execution_count": 32,
   "id": "95431e80-09e1-432b-91e1-6c35826b2320",
   "metadata": {},
   "outputs": [
    {
     "data": {
      "image/png": "[encoded data removed]",
      "text/plain": [
       "<Figure size 640x480 with 1 Axes>"
      ]
     },
     "metadata": {},
     "output_type": "display_data"
    }
   ],
   "source": [
    "e.barplot_counts(mutations_data_clean, \"histological_type\", \"Histology Counts\")"
   ]
  },
  {
   "cell_type": "markdown",
   "id": "0993aaa3-3104-4242-9572-ba389cbbc0f5",
   "metadata": {},
   "source": [
    "<p style=\"font-size:18px;\"> The histology bar chart shows that most tumors in our cohort are of the ductal subtype, with a smaller proportion classified as lobular. This anatomical distinction matters because ductal and lobular cancers can differ in their molecular profiles and treatment responses. </p>"
   ]
  },
  {
   "cell_type": "markdown",
   "id": "65d9215f-67c4-4c85-a473-c9032af270d1",
   "metadata": {},
   "source": [
    "#### 4.1.2. Distribution of HER2 Signal by HER2 Status"
   ]
  },
  {
   "cell_type": "markdown",
   "id": "3a65d704-d131-45bf-a367-089f52930b5b",
   "metadata": {},
   "source": [
    "<p style=\"font-size:18px;\"> This plot lets us see whether our pp_HER2 measurements align with the clinical HER2 labels. We expect higher median and a right-shifted distribution in the HER2-positive group compared to HER2-negative. </p>"
   ]
  },
  {
   "cell_type": "markdown",
   "id": "c879304b-4be4-4b35-acbd-5b4a00269957",
   "metadata": {},
   "source": [
    "<p style=\"font-size:18px;\"> Now I present the pathway-by-group comparison in code.<br>\n",
    "The function <code>boxplot_by_group()</code> takes: </p>\n",
    "<ul>\n",
    "  <li><b>df</b> – input dataframe.</li>\n",
    "  <li><b>signal</b> – numeric pathway column (e.g., <code>pp_her2</code>).</li>\n",
    "  <li><b>group</b> – grouping column (e.g., <code>her2_final_status</code>, <code>er_status</code>, <code>pr_status</code>).</li>\n",
    "  <li><b>title</b> – optional custom title.</li>\n",
    "</ul>"
   ]
  },
  {
   "cell_type": "code",
   "execution_count": 33,
   "id": "9693bce5-cdfc-4036-967f-5a7b7f7176d5",
   "metadata": {},
   "outputs": [],
   "source": [
    "signal = \"pp_her2\" if \"pp_her2\" in mutations_data_clean.columns else \"pp_her2_py1248\""
   ]
  },
  {
   "cell_type": "code",
   "execution_count": 34,
   "id": "cf09a0b3-eeab-4fec-a152-2dc4ca777abb",
   "metadata": {},
   "outputs": [
    {
     "data": {
      "image/png": "[encoded data removed]",
      "text/plain": [
       "<Figure size 640x480 with 1 Axes>"
      ]
     },
     "metadata": {},
     "output_type": "display_data"
    }
   ],
   "source": [
    "e.boxplot_by_group(\n",
    "    mutations_data_clean,\n",
    "    signal,\n",
    "    \"her2_final_status\",\n",
    "    f\"{signal.upper()} Distribution by HER2 Status\"\n",
    ")"
   ]
  },
  {
   "cell_type": "markdown",
   "id": "5e919c0f-cbfb-4495-ae99-901509544b52",
   "metadata": {},
   "source": [
    "<p style=\"font-size:18px;\"> The boxplot shows that HER2-negative samples form a compact, low-value cluster, with a tight interquartile range near the bottom of the pp_HER2 scale. In contrast, HER2-positive samples have a markedly higher median phosphorylation level and a broader spread, reflecting greater variability in pathway activation among positives. Together, these patterns confirm that our pp_HER2 signal reliably tracks clinical HER2 status. </p>"
   ]
  },
  {
   "cell_type": "markdown",
   "id": "3d385933-604e-46ad-8ba8-c70e0842160f",
   "metadata": {},
   "source": [
    "#### 4.1.3. Histogram & Density of HER2 Signal"
   ]
  },
  {
   "cell_type": "markdown",
   "id": "5656ef64-ae2b-4044-86b5-ac538335ee77",
   "metadata": {},
   "source": [
    "<p style=\"font-size:18px;\"> Now I present the signal distribution in code.<br>\n",
    "The function <code>hist_density()</code> takes: </p>\n",
    "<ul>\n",
    "  <li><b>df</b> – input dataframe.</li>\n",
    "  <li><b>column</b> – numeric column to plot.</li>\n",
    "  <li><b>bins</b> – number of histogram bins (default 40).</li>\n",
    "</ul>"
   ]
  },
  {
   "cell_type": "code",
   "execution_count": 35,
   "id": "9dbf34ce-b855-417d-80c5-178ecea272e5",
   "metadata": {},
   "outputs": [],
   "source": [
    "signal = \"pp_her2\" if \"pp_her2\" in mutations_data_clean.columns else \"pp_her2_py1248\""
   ]
  },
  {
   "cell_type": "code",
   "execution_count": 36,
   "id": "c955fd89-7611-4a82-8ef4-5a9176103b8e",
   "metadata": {},
   "outputs": [
    {
     "data": {
      "image/png": "[encoded data removed]",
      "text/plain": [
       "<Figure size 640x480 with 1 Axes>"
      ]
     },
     "metadata": {},
     "output_type": "display_data"
    }
   ],
   "source": [
    "e.hist_density(mutations_data_clean, signal)"
   ]
  },
  {
   "cell_type": "markdown",
   "id": "ee6c9090-ccbf-464f-a251-e9868169cc0b",
   "metadata": {},
   "source": [
    "<p style=\"font-size:18px;\"> The histogram and density plot of the pp_HER2 signal reveal a clear right‐skew: most tumors cluster at low to moderate phosphorylation levels, with a tail of samples showing much higher activation. There’s a single dominant peak around the lower values, suggesting the bulk of the cohort has modest HER2 pathway activity, while the few high‐end outliers may represent exceptionally driven tumors. This skew tells us that a simple linear model might struggle to capture those extremes. The overall spread confirms substantial variability across the cohort. </p>"
   ]
  },
  {
   "cell_type": "markdown",
   "id": "8089cb4f-e125-4284-ac7d-4d8dde524d03",
   "metadata": {},
   "source": [
    "#### 4.1.4. Signal by Hormone‐Receptor Status"
   ]
  },
  {
   "cell_type": "code",
   "execution_count": 37,
   "id": "703473f0-2a69-4f01-8fa6-5f424a9dd6a8",
   "metadata": {},
   "outputs": [
    {
     "data": {
      "image/png": "[encoded data removed]",
      "text/plain": [
       "<Figure size 640x480 with 1 Axes>"
      ]
     },
     "metadata": {},
     "output_type": "display_data"
    },
    {
     "data": {
      "image/png": "[encoded data removed]",
      "text/plain": [
       "<Figure size 640x480 with 1 Axes>"
      ]
     },
     "metadata": {},
     "output_type": "display_data"
    }
   ],
   "source": [
    "# Boxplots of pp_HER2 by ER status\n",
    "if \"E\" in mutations_data_clean.columns:\n",
    "    e.boxplot_by_group(\n",
    "        mutations_data_clean,\n",
    "        signal,\n",
    "        \"E\",\n",
    "        f\"{signal.upper()} by ER Status\"\n",
    "    )\n",
    "\n",
    "# Boxplots of pp_HER2 by PR status\n",
    "if \"P\" in mutations_data_clean.columns:\n",
    "    e.boxplot_by_group(\n",
    "        mutations_data_clean,\n",
    "        signal,\n",
    "        \"P\",\n",
    "        f\"{signal.upper()} by PR Status\"\n",
    "    )"
   ]
  },
  {
   "cell_type": "markdown",
   "id": "0c8878e7-c17a-461a-97f0-18fd0c845e24",
   "metadata": {},
   "source": [
    "<p style=\"font-size:18px;\"> The data show that ER-positive tumors actually have slightly higher HER2 phosphorylation than ER-negative ones. Likewise, PR-positive samples exceed PR-negative cases. These findings imply that hormone-receptor positivity is associated with modestly greater HER2 pathway activation, rather than a compensatory increase in the receptor-negative groups. </p>"
   ]
  },
  {
   "cell_type": "markdown",
   "id": "559123be-b02b-434a-9d96-62d25ac26e8f",
   "metadata": {},
   "source": [
    "#### 4.1.5. Cross-Tables for Final Status and Hormone-Receptor"
   ]
  },
  {
   "cell_type": "code",
   "execution_count": 38,
   "id": "0a52285f-4717-4713-9155-0310113684b5",
   "metadata": {},
   "outputs": [
    {
     "data": {
      "text/html": [
       "<div>\n",
       "<style scoped>\n",
       "    .dataframe tbody tr th:only-of-type {\n",
       "        vertical-align: middle;\n",
       "    }\n",
       "\n",
       "    .dataframe tbody tr th {\n",
       "        vertical-align: top;\n",
       "    }\n",
       "\n",
       "    .dataframe thead th {\n",
       "        text-align: right;\n",
       "    }\n",
       "</style>\n",
       "<table border=\"1\" class=\"dataframe\">\n",
       "  <thead>\n",
       "    <tr style=\"text-align: right;\">\n",
       "      <th>er_status</th>\n",
       "      <th>Negative</th>\n",
       "      <th>Positive</th>\n",
       "    </tr>\n",
       "    <tr>\n",
       "      <th>her2_final_status</th>\n",
       "      <th></th>\n",
       "      <th></th>\n",
       "    </tr>\n",
       "  </thead>\n",
       "  <tbody>\n",
       "    <tr>\n",
       "      <th>Negative</th>\n",
       "      <td>98</td>\n",
       "      <td>327</td>\n",
       "    </tr>\n",
       "    <tr>\n",
       "      <th>Positive</th>\n",
       "      <td>26</td>\n",
       "      <td>56</td>\n",
       "    </tr>\n",
       "  </tbody>\n",
       "</table>\n",
       "</div>"
      ],
      "text/plain": [
       "er_status          Negative  Positive\n",
       "her2_final_status                    \n",
       "Negative                 98       327\n",
       "Positive                 26        56"
      ]
     },
     "metadata": {},
     "output_type": "display_data"
    },
    {
     "data": {
      "text/html": [
       "<div>\n",
       "<style scoped>\n",
       "    .dataframe tbody tr th:only-of-type {\n",
       "        vertical-align: middle;\n",
       "    }\n",
       "\n",
       "    .dataframe tbody tr th {\n",
       "        vertical-align: top;\n",
       "    }\n",
       "\n",
       "    .dataframe thead th {\n",
       "        text-align: right;\n",
       "    }\n",
       "</style>\n",
       "<table border=\"1\" class=\"dataframe\">\n",
       "  <thead>\n",
       "    <tr style=\"text-align: right;\">\n",
       "      <th>er_status</th>\n",
       "      <th>Negative</th>\n",
       "      <th>Positive</th>\n",
       "    </tr>\n",
       "    <tr>\n",
       "      <th>her2_final_status</th>\n",
       "      <th></th>\n",
       "      <th></th>\n",
       "    </tr>\n",
       "  </thead>\n",
       "  <tbody>\n",
       "    <tr>\n",
       "      <th>Negative</th>\n",
       "      <td>0.231</td>\n",
       "      <td>0.769</td>\n",
       "    </tr>\n",
       "    <tr>\n",
       "      <th>Positive</th>\n",
       "      <td>0.317</td>\n",
       "      <td>0.683</td>\n",
       "    </tr>\n",
       "  </tbody>\n",
       "</table>\n",
       "</div>"
      ],
      "text/plain": [
       "er_status          Negative  Positive\n",
       "her2_final_status                    \n",
       "Negative              0.231     0.769\n",
       "Positive              0.317     0.683"
      ]
     },
     "metadata": {},
     "output_type": "display_data"
    }
   ],
   "source": [
    "ct_er = pd.crosstab(mutations_data_clean[\"her2_final_status\"], mutations_data_clean[\"er_status\"])\n",
    "ct_er_pct = pd.crosstab(mutations_data_clean[\"her2_final_status\"], mutations_data_clean[\"er_status\"], normalize=\"index\").round(3)\n",
    "display(ct_er); \n",
    "display(ct_er_pct)"
   ]
  },
  {
   "cell_type": "markdown",
   "id": "6e8b1bb9-333d-4f2d-ba6b-2994d5eb6eec",
   "metadata": {},
   "source": [
    "<p style=\"font-size:18px;\"> Reading the table row-wise (conditioning on HER2 status), the distribution of ER labels within each HER2 group indicates that HER2-positive tumors are relatively enriched for ER-negative disease and depleted for ER-positive compared with HER2-negative tumors. This pattern is consistent with the known tendency for a subset of HER2-amplified cancers to lack hormone-receptor signaling. Interpretation should primarily rely on the row percentages (composition within each HER2 stratum) while using the counts to gauge stability - cells with very small counts warrant caution. Entries marked \"Unknown/Indeterminate/Not performed\" were not treated as negatives and were excluded from these subgroup summaries to avoid misclassification. </p>"
   ]
  },
  {
   "cell_type": "code",
   "execution_count": 39,
   "id": "2126f71b-51a0-4b71-a8cc-f90dcfef9d6c",
   "metadata": {},
   "outputs": [
    {
     "data": {
      "text/html": [
       "<div>\n",
       "<style scoped>\n",
       "    .dataframe tbody tr th:only-of-type {\n",
       "        vertical-align: middle;\n",
       "    }\n",
       "\n",
       "    .dataframe tbody tr th {\n",
       "        vertical-align: top;\n",
       "    }\n",
       "\n",
       "    .dataframe thead th {\n",
       "        text-align: right;\n",
       "    }\n",
       "</style>\n",
       "<table border=\"1\" class=\"dataframe\">\n",
       "  <thead>\n",
       "    <tr style=\"text-align: right;\">\n",
       "      <th>pr_status</th>\n",
       "      <th>Negative</th>\n",
       "      <th>Positive</th>\n",
       "    </tr>\n",
       "    <tr>\n",
       "      <th>her2_final_status</th>\n",
       "      <th></th>\n",
       "      <th></th>\n",
       "    </tr>\n",
       "  </thead>\n",
       "  <tbody>\n",
       "    <tr>\n",
       "      <th>Negative</th>\n",
       "      <td>138</td>\n",
       "      <td>287</td>\n",
       "    </tr>\n",
       "    <tr>\n",
       "      <th>Positive</th>\n",
       "      <td>38</td>\n",
       "      <td>44</td>\n",
       "    </tr>\n",
       "  </tbody>\n",
       "</table>\n",
       "</div>"
      ],
      "text/plain": [
       "pr_status          Negative  Positive\n",
       "her2_final_status                    \n",
       "Negative                138       287\n",
       "Positive                 38        44"
      ]
     },
     "metadata": {},
     "output_type": "display_data"
    },
    {
     "data": {
      "text/html": [
       "<div>\n",
       "<style scoped>\n",
       "    .dataframe tbody tr th:only-of-type {\n",
       "        vertical-align: middle;\n",
       "    }\n",
       "\n",
       "    .dataframe tbody tr th {\n",
       "        vertical-align: top;\n",
       "    }\n",
       "\n",
       "    .dataframe thead th {\n",
       "        text-align: right;\n",
       "    }\n",
       "</style>\n",
       "<table border=\"1\" class=\"dataframe\">\n",
       "  <thead>\n",
       "    <tr style=\"text-align: right;\">\n",
       "      <th>pr_status</th>\n",
       "      <th>Negative</th>\n",
       "      <th>Positive</th>\n",
       "    </tr>\n",
       "    <tr>\n",
       "      <th>her2_final_status</th>\n",
       "      <th></th>\n",
       "      <th></th>\n",
       "    </tr>\n",
       "  </thead>\n",
       "  <tbody>\n",
       "    <tr>\n",
       "      <th>Negative</th>\n",
       "      <td>0.325</td>\n",
       "      <td>0.675</td>\n",
       "    </tr>\n",
       "    <tr>\n",
       "      <th>Positive</th>\n",
       "      <td>0.463</td>\n",
       "      <td>0.537</td>\n",
       "    </tr>\n",
       "  </tbody>\n",
       "</table>\n",
       "</div>"
      ],
      "text/plain": [
       "pr_status          Negative  Positive\n",
       "her2_final_status                    \n",
       "Negative              0.325     0.675\n",
       "Positive              0.463     0.537"
      ]
     },
     "metadata": {},
     "output_type": "display_data"
    }
   ],
   "source": [
    "ct_pr = pd.crosstab(mutations_data_clean[\"her2_final_status\"], mutations_data_clean[\"pr_status\"])\n",
    "ct_pr_pct = pd.crosstab(mutations_data_clean[\"her2_final_status\"], mutations_data_clean[\"pr_status\"], normalize=\"index\").round(3)\n",
    "display(ct_pr); \n",
    "display(ct_pr_pct)"
   ]
  },
  {
   "cell_type": "markdown",
   "id": "8db9f8c6-bf1d-4cdc-a242-dfa9ee890948",
   "metadata": {},
   "source": [
    "<p style=\"font-size:18px;\"> Within the HER2-negative group, PR- = 138 and PR+ = 287 (n=425), yielding 32.5% PR- / 67.5% PR+. Within the HER2-positive group, PR- = 38 and PR+ = 44 (n=82), yielding 46.3% PR− / 53.7% PR+. Thus, PR positivity is lower in HER2-positive tumors (53.7%) than in HER2-negative (67.5%), with a corresponding rise in PR negativity (32.5% -> 46.3%). Descriptively, the crude odds of being PR-positive are 0.56x in HER2-positive vs HER2-negative (44x138 vs 38x287). Given the smaller HER2-positive stratum (n=82), we note the potential for wider uncertainty; formal inference is presented later, but the table already suggests a shift toward PR negativity in the HER2-positive subset. </p>"
   ]
  },
  {
   "cell_type": "markdown",
   "id": "22230182-0862-4459-a2e7-283355c5ae0b",
   "metadata": {},
   "source": [
    "<p style=\"font-size:18px;\"> Taken together, the receptor cross-tabs show that HER2-positive tumors skew away from hormone-receptor positivity. In the PR table, HER2- cases are 67.5% PR+ / 32.5% PR- (287/138; n=425) whereas HER2+ cases are 53.7% PR+ / 46.3% PR− (44/38; n=82), indicating a clear shift toward PR negativity in the HER2+ stratum. The ER table points in the same direction (a higher proportion of ER− within HER2+ than within HER2−). While some HER2+ cells are smaller and should be interpreted cautiously, the row-normalized percentages are consistent: when HER2 is positive, hormone-receptor positivity (ER/PR) is less common. We'll carry this pattern forward in the narrative and avoid collapsing HER2 with ER/PR groups without justification. </p>"
   ]
  },
  {
   "cell_type": "markdown",
   "id": "22b0e646-8668-4e1f-80d0-d669fc51466e",
   "metadata": {},
   "source": [
    "### 4.2. Drug Sensitivity EDA"
   ]
  },
  {
   "cell_type": "markdown",
   "id": "02092740-f524-42e6-adf1-3020fde3baab",
   "metadata": {},
   "source": [
    "#### 4.2.1. Top Drugs by Measurement Count"
   ]
  },
  {
   "cell_type": "markdown",
   "id": "bfee8ff4-81b5-48a7-9d07-a4bf5470d170",
   "metadata": {},
   "source": [
    "<p style=\"font-size:18px;\"> Now I present the most-measured drugs in code.<br>\n",
    "The function <code>bar_top_drugs_by_count()</code> takes: </p>\n",
    "<ul>\n",
    "  <li><b>drug_df</b> – cleaned drug dataframe.</li>\n",
    "  <li><b>top_n</b> – how many drugs to display (default 20).</li>\n",
    "</ul>"
   ]
  },
  {
   "cell_type": "code",
   "execution_count": 40,
   "id": "d7e84757-7347-4579-b330-9671f6dfd151",
   "metadata": {},
   "outputs": [
    {
     "data": {
      "image/png": "[encoded data removed]",
      "text/plain": [
       "<Figure size 640x480 with 1 Axes>"
      ]
     },
     "metadata": {},
     "output_type": "display_data"
    }
   ],
   "source": [
    "e.bar_top_drugs_by_count(drug_data_clean, 20)"
   ]
  },
  {
   "cell_type": "markdown",
   "id": "4a2f6b2d-8ab1-4e98-8271-908c34a8d40b",
   "metadata": {},
   "source": [
    "<p style=\"font-size:18px;\"> The bar chart reveals that afatinib, linsitinib, and PLX-4720 top the list in measurement count - each with hundreds of data points - making them prime candidates for robust dose-response modeling. Afatinib (an irreversible EGFR/HER2 inhibitor) and linsitinib (an IGF-1R inhibitor) provide valuable data on targeted kinase pathways, while PLX-4720 (a BRAF inhibitor) serves as a useful comparator outside the HER2 axis. The presence of both pathway-specific inhibitors and off-target agents in this top tier sets up a strong analytical framework for distinguishing on-target versus background effects. </p>"
   ]
  },
  {
   "cell_type": "markdown",
   "id": "23e90a3e-d052-4c13-8b35-5fd81d198e86",
   "metadata": {},
   "source": [
    "#### 4.2.2. Dose-Viability Plots"
   ]
  },
  {
   "cell_type": "markdown",
   "id": "5b43a2e9-17a7-40dc-a68c-28e43d3601e3",
   "metadata": {},
   "source": [
    "<p style=\"font-size:18px;\"> Now I present median dose-response curves in code.<br>\n",
    "The function <code>median_response_logdose()</code> takes: </p>\n",
    "<ul>\n",
    "  <li><b>df</b> – cleaned drug dataframe with <code>drug_name</code>, <code>dose</code>, <code>viability</code>.</li>\n",
    "  <li><b>drugs</b> – list of drug names (strings) to plot.</li>\n",
    "</ul>"
   ]
  },
  {
   "cell_type": "code",
   "execution_count": 41,
   "id": "9db93b42-282a-4964-b33c-50b22c4fae5b",
   "metadata": {},
   "outputs": [
    {
     "data": {
      "image/png": "[encoded data removed]",
      "text/plain": [
       "<Figure size 640x480 with 1 Axes>"
      ]
     },
     "metadata": {},
     "output_type": "display_data"
    }
   ],
   "source": [
    "top = (\n",
    "    drug_data_clean[\"drug_name\"]\n",
    "    .value_counts()\n",
    "    .rename_axis(\"drug\")\n",
    "    .reset_index(name=\"count\")\n",
    ")\n",
    "\n",
    "top5_names = top[\"drug\"].astype(str).tolist()[:5]\n",
    "e.median_response_logdose(drug_data_clean, top5_names)"
   ]
  },
  {
   "cell_type": "markdown",
   "id": "aa12736b-3765-40c9-90bc-51b1b61787e1",
   "metadata": {},
   "source": [
    "<p style=\"font-size:18px;\"> Drugs whose curves begin to decline at lower $\\log_{10}$(dose) values achieve half‐maximal viability reduction at smaller concentrations, indicating higher potency. For each compound, the lowest point reached by its curve represents the median minimal viability, so a curve dipping further downward demonstrates greater overall efficacy. The slope of each curve - the range of log‐doses over which median viability falls - reflects how uniformly cell lines respond: a steep descent over a narrow dose window means most lines behave similarly, whereas a gradual decline indicates diverse sensitivities. Comparing curves directly shows that HER2‐targeted inhibitors require lower concentrations to suppress viability and drive the median response closer to zero than off‐target agents like PLX‐4720, highlighting their stronger and more specific activity. </p>"
   ]
  },
  {
   "cell_type": "markdown",
   "id": "9f9dcc4f-ec56-4722-b288-58a9b0b7fa77",
   "metadata": {},
   "source": [
    "#### 4.2.3. ECDF of Viability for Top Drugs"
   ]
  },
  {
   "cell_type": "markdown",
   "id": "dbc82ce8-e41f-4b24-9c5d-2c7f59703a06",
   "metadata": {},
   "source": [
    "<p style=\"font-size:18px;\"> Now I present ECDF comparisons in code.<br>\n",
    "The function <code>plot_ecdf()</code> takes: </p>\n",
    "<ul>\n",
    "  <li><b>df</b> – cleaned drug dataframe.</li>\n",
    "  <li><b>drug_names</b> – list of drug names to include.</li>\n",
    "</ul>"
   ]
  },
  {
   "cell_type": "code",
   "execution_count": 42,
   "id": "806f84e4-1689-481d-a139-0151e07b3aa9",
   "metadata": {},
   "outputs": [
    {
     "data": {
      "image/png": "[encoded data removed]",
      "text/plain": [
       "<Figure size 640x480 with 1 Axes>"
      ]
     },
     "metadata": {},
     "output_type": "display_data"
    }
   ],
   "source": [
    "top3_names = top[\"drug\"].astype(str).tolist()[:3]\n",
    "e.plot_ecdf(drug_data_clean, top3_names)"
   ]
  },
  {
   "cell_type": "markdown",
   "id": "7033480a-d160-4fe6-9c90-4b9d59640c83",
   "metadata": {},
   "source": [
    "<p style=\"font-size:18px;\"> For the top three drugs, the ECDF curves make their relative potencies immediately clear. Afatinib's ECDF climbs most slowly, indicating that it drives viability below 50% in roughly half of all measurements - demonstrating its superior ability to suppress cell growth across the panel. Linsitinib's curve is steeper than afatinib's but still notably delayed compared to PLX-4720, reflecting moderate but consistent activity. In contrast, PLX-4720's ECDF rises almost vertically at high viability values, showing that the vast majority of its measurements remain above 80-90% viability; this confirms that PLX-4720 has minimal impact on most breast-cancer lines in our dataset. </p>"
   ]
  },
  {
   "cell_type": "markdown",
   "id": "bce6d303-d0c1-414f-afbb-02b2889a496e",
   "metadata": {},
   "source": [
    "#### 4.2.4. Violin Plot of Viability Distributions"
   ]
  },
  {
   "cell_type": "markdown",
   "id": "40e5ebab-98a6-4695-8a78-179b00dab939",
   "metadata": {},
   "source": [
    "<p style=\"font-size:18px;\"> Now I present viability distribution shapes in code.<br>\n",
    "The function <code>violin_viability()</code> takes: </p>\n",
    "<ul>\n",
    "  <li><b>df</b> – cleaned drug dataframe.</li>\n",
    "  <li><b>drugs</b> – list of drug names to include.</li>\n",
    "</ul>"
   ]
  },
  {
   "cell_type": "code",
   "execution_count": 43,
   "id": "c16de17c-b4b3-4d08-9796-570d2ed11490",
   "metadata": {},
   "outputs": [
    {
     "data": {
      "image/png": "[encoded data removed]",
      "text/plain": [
       "<Figure size 640x480 with 1 Axes>"
      ]
     },
     "metadata": {},
     "output_type": "display_data"
    }
   ],
   "source": [
    "e.violin_viability(drug_data_clean, top3_names)"
   ]
  },
  {
   "cell_type": "markdown",
   "id": "63d6b812-686e-4063-a028-5233b963635c",
   "metadata": {},
   "source": [
    "<p style=\"font-size:18px;\"> For all three drugs, the bulk of measurements cluster at high viability values - each violin plot is widest near 80-100%, indicating that most cell-dose combinations yield minimal killing. Afatinib's violin, however, shows a longer lower tail extending toward 20-40% viability, revealing a subset of cell lines that are notably sensitive to this inhibitor. Linsitinib's distribution has a moderate lower tail, more pronounced than PLX-4720 but less than afatinib, peaking broadly around 60-80% viability. In contrast, PLX-4720's violin is sharply peaked at the top end with almost no lower tail, confirming that it produces virtually no strong responses in our panel. These shapes illustrate that while resistance predominates for all compounds, afatinib has the largest fraction of sensitive outcomes, linsitinib shows intermediate sensitivity, and PLX-4720 shows almost none. </p>"
   ]
  },
  {
   "cell_type": "markdown",
   "id": "4d4add53-61cc-49e9-89f2-45a7f1f778b0",
   "metadata": {},
   "source": [
    "<p style=\"font-size:18px;\"> We've now completed a full exploratory profile on both sides of our study. In the tumor cohort, we confirmed that clinical HER2, ER, and PR labels match the underlying phospho-HER2 measurements and that hormone-receptor context subtly shapes pathway activity. On the drug side, we identified our most data-rich compounds, traced their median dose-response curves on a $\\log_{10}$ scale, compared full viability distributions via ECDFs, and used violin plots to capture response heterogeneity. Together, these eight figures show, with clear mathematical grounding, that HER2 pathway activation is a real and measurable signal both in patient tumors and in vitro drug responses. </p>"
   ]
  },
  {
   "cell_type": "markdown",
   "id": "fafa968a-2e05-4754-b905-cc3c75bea14f",
   "metadata": {},
   "source": [
    "## 5. Statistical Testing & Interpretation"
   ]
  },
  {
   "cell_type": "markdown",
   "id": "ce5934be-a2b6-4434-8811-1175ae0a663c",
   "metadata": {},
   "source": [
    "### 5.1. Hypotheses"
   ]
  },
  {
   "cell_type": "markdown",
   "id": "30b74fc3-c284-4501-8608-7c404a3a457a",
   "metadata": {},
   "source": [
    "<p style=\"font-size:18px;\"> We test three related claims about HER2 biology and drug response using the cleaned datasets.\n",
    "\n",
    "$H_1$ (Survival vs Pathway): Vital status is associated with HER2 pathway activity (median-split into High vs Low). Null: no association.\n",
    "\n",
    "$H_2$ (Drug Potency vs Targeting): HER2-targeted agents yield lower viability than non-targeted comparators. Null: no difference in viability distributions.\n",
    "\n",
    "$H_3$ (HER2 Status vs Pathway): Tumors labeled HER2-positive exhibit higher HER2 pathway activity than HER2-negative. Null: equal distributions. \n",
    "\n",
    "</p>"
   ]
  },
  {
   "cell_type": "markdown",
   "id": "fbf9a414-bfd4-4b90-9dcf-0826bad21543",
   "metadata": {},
   "source": [
    "### 5.2. Association of HER2 Pathway Activity with Vital Status"
   ]
  },
  {
   "cell_type": "markdown",
   "id": "12c0e118-de24-4708-bbe6-ae18644a1400",
   "metadata": {},
   "source": [
    "<p style=\"font-size:18px;\"> To assess whether elevated HER2 pathway activity predicts patient mortality, we split the data at the median pp_HER2 signal into \"High\" and \"Low\" groups. We then construct a 2x2 table of HER2‐High vs. HER2‐Low against vital status (deceased vs. alive) and apply a chi‐square test of independence. An odds ratio quantifies how much more likely a deceased outcome is in the High‐signal group. </p>"
   ]
  },
  {
   "cell_type": "markdown",
   "id": "2e5e83aa-9a62-4c30-93c3-ea6330b6cc5c",
   "metadata": {},
   "source": [
    "#### 5.2.1. Hypotheses"
   ]
  },
  {
   "cell_type": "markdown",
   "id": "802f9cee-83b0-4067-add5-f56e6cb45b14",
   "metadata": {},
   "source": [
    "<p style=\"font-size:18px;\"> \n",
    "Hypothesis ($H_1$): Patients' vital status differs by pathway group: tumors with High HER2 pathway activity have a different (worse) survival profile than those with Low activity. Null Hypothesis ($H_0$): Vital status and pathway group are independent (no association). Direction: We expect the High-activity group to be enriched for deaths relative to Low.\n",
    "Goal: Test whether vital status (0=alive, 1=deceased) is associated with HER2 pathway activity.</p>"
   ]
  },
  {
   "cell_type": "markdown",
   "id": "d3188381-f35b-44f0-a8bb-d3bcd8a30d92",
   "metadata": {},
   "source": [
    "#### 5.2.2. Chosen metrics and tests"
   ]
  },
  {
   "cell_type": "markdown",
   "id": "e2adc809-af00-4a6d-af7a-fae8461af03a",
   "metadata": {},
   "source": [
    "<p style=\"font-size:18px;\"> A) Median Split </p>"
   ]
  },
  {
   "cell_type": "markdown",
   "id": "7bfed898-ffc3-42d7-8111-8b67c801e1ca",
   "metadata": {},
   "source": [
    "<p style=\"font-size:18px;\"> We median-split the continuous pathway signal pp_her2 to form \n",
    "$ \\text{her2\\_group} \\in \\set{High,Low} $. This creates balanced groups without searching for an \"optimal\" threshold (which would inflate Type-I error) and yields a simple 2x2 contingency table for independence tests and an interpretable odds ratio for death in High vs Low. It is:"
   ]
  },
  {
   "cell_type": "markdown",
   "id": "45f1f5f2-a117-4123-b41f-8dc903089468",
   "metadata": {},
   "source": [
    "| HER2 Group | Alive (0) | Deceased (1) | Total |\n",
    "|---|---:|---:|---:|\n",
    "| High | 231 | 23 | 254 |\n",
    "| Low  | 214 | 39 | 253 |\n",
    "| **Total** | 445 | 62 | 507 |"
   ]
  },
  {
   "cell_type": "markdown",
   "id": "c5653f75-9a53-44c9-9b8a-161841ba010e",
   "metadata": {},
   "source": [
    "<p style=\"font-size:18px;\"> B) Chi-square test (2x2) </p>"
   ]
  },
  {
   "cell_type": "markdown",
   "id": "dc887af5-2fb3-4be8-9ba6-de1a3e8e96b3",
   "metadata": {},
   "source": [
    "<p style=\"font-size:18px;\"> The chi-square test checks whether two categorical variables are independent in the population. Here, we ask: Is vital status distributed the same way in the High vs Low `pp_her2` groups? If the distribution differs beyond what random sampling would plausibly produce, we call it \"associated\". </p>"
   ]
  },
  {
   "cell_type": "markdown",
   "id": "5dc09945-c544-4f0a-981a-4b2e3a71ecfc",
   "metadata": {},
   "source": [
    "<p style=\"font-size:18px;\"> Expected counts - if group and outcome were truly unrelated, the proportion of deaths would be the same in both groups. Mathematically, the expected count in a cell is: </p>"
   ]
  },
  {
   "cell_type": "markdown",
   "id": "8d281f54-dd32-4c83-9165-6455226430c6",
   "metadata": {},
   "source": [
    "$$  E_{ij}=\\frac{(\\text{row total}_i)\\,(\\text{column total}_j)}{N} = $$ \n",
    "$$  E_{ij}=\\frac{(\\mathrm{row}_i)(\\mathrm{col}_j)}{N}$$"
   ]
  },
  {
   "cell_type": "markdown",
   "id": "0d3bf698-aed2-4a3c-9196-ccdbb62085f2",
   "metadata": {},
   "source": [
    "<p style=\"font-size:18px;\"> These $E_{ij}$ are the yardsticks we compare to the observed counts $O_{ij}$. </p>"
   ]
  },
  {
   "cell_type": "markdown",
   "id": "2cf31d9d-8a2a-460a-9694-57026be210b0",
   "metadata": {},
   "source": [
    "<p style=\"font-size:18px;\"> Statistic (no continuity correction) - the chi-square statistic adds up, over all 4 cells, how far observed counts deviate from expected counts after scaling by expected counts: </p>"
   ]
  },
  {
   "cell_type": "markdown",
   "id": "e70dca21-dfd4-4dac-ab75-2c99e1499be5",
   "metadata": {},
   "source": [
    "$$\\chi^2=\\sum_{i=1}^{2}\\sum_{j=1}^{2}\\frac{(O_{ij}-E_{ij})^2}{E_{ij}}$$"
   ]
  },
  {
   "cell_type": "markdown",
   "id": "49cb3639-8835-47b0-9c20-f094180d2a07",
   "metadata": {},
   "source": [
    "<p style=\"font-size:18px;\"> Yates correction for 2x2 - cecause counts are discrete, a small adjustment can make the test slightly more conservative in 2x2 tables - useful when counts are modest: </p>\n",
    "$$\n",
    "\\chi^2_Y=\\sum_{i=1}^{2}\\sum_{j=1}^{2}\\frac{(|O_{ij}-E_{ij}|-\\tfrac{1}{2})^2}{E_{ij}} =\n",
    "\\sum\\frac{\\big(|O_{ij}-E_{ij}|-\\tfrac{1}{2}\\big)^2}{E_{ij}}\n",
    "$$"
   ]
  },
  {
   "cell_type": "markdown",
   "id": "404a7dec-ca68-45fc-a8c0-41bf07d33efe",
   "metadata": {},
   "source": [
    "<p style=\"font-size:18px;\"> C) Fisher's exact test (2x2) </p>  "
   ]
  },
  {
   "cell_type": "markdown",
   "id": "b9c76030-c55c-4562-9f35-81bd4bcd34af",
   "metadata": {},
   "source": [
    "<p style=\"font-size:18px;\"> Fisher's test answers the same independence question but does not rely on large-sample approximations. It computes the exact probability of seeing our table (or any table more \"extreme\") under the null hypothesis of independence. With row and column totals treated as fixed, the count in one cell (say, $a$) follows a hypergeometric distribution. The two-sided p-value sums the probabilities of all tables that are at least as unlikely (as \"extreme\") as the observed one. Because it is exact, Fisher’s test is dependable even with small cell counts:"
   ]
  },
  {
   "cell_type": "markdown",
   "id": "5a7c34e2-0e16-496e-b078-f6d86381d2b6",
   "metadata": {},
   "source": [
    "Two-sided exact $p$-value:\n",
    "$$p=\\frac{\\binom{a+b}{a}\\binom{c+d}{c}}{\\binom{N}{a+c}},$$\n",
    "will be applied to a=23; b=231; c=39; d=214"
   ]
  },
  {
   "cell_type": "markdown",
   "id": "b038b7ff-df8e-441b-a0aa-44572eb7ce81",
   "metadata": {},
   "source": [
    "<p style=\"font-size:18px;\"> D) Odds ratio (High vs Low odds of death) </p>"
   ]
  },
  {
   "cell_type": "markdown",
   "id": "db5f4756-23c6-4e63-af2c-164e2e2512c4",
   "metadata": {},
   "source": [
    "<p style=\"font-size:18px;\"> The odds ratio (OR) compares the odds of death in the High group to the odds in the Low group: </p>"
   ]
  },
  {
   "cell_type": "markdown",
   "id": "0767b965-eafc-44c2-b07d-3e5e6fbeafad",
   "metadata": {},
   "source": [
    "$$\n",
    "\\mathrm{OR}=\\frac{a\\,d}{b\\,c}\n",
    "$$\n",
    "Wald 95% CI on the log scale:\n",
    "$$\n",
    "\\log(\\mathrm{OR})\\pm 1.96\\sqrt{\\tfrac{1}{a}+\\tfrac{1}{b}+\\tfrac{1}{c}+\\tfrac{1}{d}}\n",
    "\\;\n",
    "$$"
   ]
  },
  {
   "cell_type": "markdown",
   "id": "cda89cba-e7f6-47fd-9e50-f0e72c593ee9",
   "metadata": {},
   "source": [
    "$ \\mathrm{OR}=1: \\text{no difference in odds} $\n",
    "$ \\mathrm{OR}<1: \\text{death is less likely in High than in Low (here, roughly half the odds)}$\n",
    "$ \\mathrm{OR}>1: \\text{death is more likely in High} $\n",
    "\n",
    "**Why log-scale.** Sampling variation is more symmetric on the **log-OR**, so we build the interval for $\\log(\\mathrm{OR})$ and then exponentiate back. Exponentiating the endpoints gives a 95% CI for OR. If the entire CI is **below 1**, the data are consistent with **lower odds** of death in the High group."
   ]
  },
  {
   "cell_type": "markdown",
   "id": "517a378f-12fe-4658-8f04-49eb2b017332",
   "metadata": {},
   "source": [
    "#### 5.2.3. Tests Performance"
   ]
  },
  {
   "cell_type": "markdown",
   "id": "2dfcd0f5-5deb-4833-8065-f86aba38e28f",
   "metadata": {},
   "source": [
    "<p style=\"font-size:18px;\"> Now I present the HER2 grouping step and survival association tests in code.<br>\n",
    "The function <code>add_her2_group_by_median()</code> takes: </p>\n",
    "<ul>\n",
    "  <li><b>df</b> – cleaned tumor dataframe.</li>\n",
    "  <li><b>signal_col</b> – pathway signal column (e.g., <code>pp_her2</code>).</li>\n",
    "</ul>\n",
    "<p style=\"font-size:18px;\"> The function <code>survival_chi2_fisher()</code> takes: </p>\n",
    "<ul>\n",
    "  <li><b>df_with_group</b> – dataframe containing <code>her2_group</code> and <code>vital_status</code> (0=alive, 1=deceased).</li>\n",
    "</ul>"
   ]
  },
  {
   "cell_type": "code",
   "execution_count": 44,
   "id": "a4f3d6b2-f5aa-494f-ba08-3459da906cbb",
   "metadata": {},
   "outputs": [
    {
     "data": {
      "text/plain": [
       "{'chi2_p': 0.040367831674562774,\n",
       " 'fisher_p': 0.030625597215985928,\n",
       " 'odds_ratio': 0.5463425463425463,\n",
       " 'table': Deceased      0   1\n",
       " HER2 Group         \n",
       " High        231  23\n",
       " Low         214  39}"
      ]
     },
     "execution_count": 44,
     "metadata": {},
     "output_type": "execute_result"
    }
   ],
   "source": [
    "# Evaluate result\n",
    "signal_col = \"pp_her2\"\n",
    "mutations_with_group, median_val = s.add_her2_group_by_median(mutations_data_clean, signal_col)\n",
    "res_surv = s.survival_chi2_fisher(mutations_with_group)\n",
    "\n",
    "res_surv"
   ]
  },
  {
   "cell_type": "markdown",
   "id": "52879589-6152-4827-98b8-07f4f7f9dcbf",
   "metadata": {},
   "source": [
    "<p style=\"font-size:18px;\"> The chi‐square test yielded a p‐value of 0.04, indicating a statistically significant association between HER2 pathway activity and mortality. Fisher's exact test corroborates this finding (p = 0.031). The odds ratio of 0.54 shows that patients in the High pp_HER2 group have only half the odds of being deceased compared to those in the Low group. In other words, elevated HER2 phosphorylation is associated with better survival in this cohort. This surprising result suggests that higher pathway activity may correlate with more responsive tumor biology, or it could reflect treatment effects in HER2‐positive patients receiving targeted therapies. </p>"
   ]
  },
  {
   "cell_type": "markdown",
   "id": "a31abc30-8570-49f7-bb8b-d99c605638f9",
   "metadata": {},
   "source": [
    "### 5.3. Association of Drug Potency with Targeting Status"
   ]
  },
  {
   "cell_type": "markdown",
   "id": "adb1ba7c-0183-44b8-af31-5cf3a5f516f9",
   "metadata": {},
   "source": [
    "<p style=\"font-size:18px;\"> We now test the second arm of our hypothesis - that HER2‐targeted inhibitors produce stronger reductions in viability than non‐targeted comparators. We will compare the distributions of viability across all doses for two groups of drugs (targeted vs. comparator) using the Mann-Whitney U test, and we'll also report the mean fraction of measurements below 50% viability in each group. </p>"
   ]
  },
  {
   "cell_type": "markdown",
   "id": "9fd67d93-6d66-4ffc-a91e-cccbaf5f5169",
   "metadata": {},
   "source": [
    "#### 5.3.1. Hypotheses"
   ]
  },
  {
   "cell_type": "markdown",
   "id": "d4f6b34a-5cf3-4a7d-b6ad-bd6e96101c9f",
   "metadata": {},
   "source": [
    "<p style=\"font-size:18px;\"> Hypothesis ($H_2$): HER2-targeted drugs produce lower cell viability than non-targeted comparators, indicating greater potency against HER2-driven contexts.\n",
    "Null Hypothesis ($H_0$): The viability distributions for targeted and comparator drugs are the same.\n",
    "Direction: One-sided expectation: targeted < comparator in viability. </p>"
   ]
  },
  {
   "cell_type": "markdown",
   "id": "d51223b7-0309-4e64-8c0d-a66911d670e3",
   "metadata": {},
   "source": [
    "#### 5.3.2. Chosen metrics and tests"
   ]
  },
  {
   "cell_type": "markdown",
   "id": "bb5ff422-8fe7-491d-b02c-4ccd6a6180fb",
   "metadata": {},
   "source": [
    "<p style=\"font-size:18px;\"> A) Fraction below 50% viability (per drug) </p>"
   ]
  },
  {
   "cell_type": "markdown",
   "id": "7bd71a7e-d0c8-4512-99ae-90c28d5bead8",
   "metadata": {},
   "source": [
    "<p style=\"font-size:18px;\"> For each drug, we take all its viability measurements (across doses) and count what share is below a threshold (by default 50%). If a drug's fraction is 1.00, it means all recorded measurements were < 50% (very potent across the tested doses). If it is 0.00, none were < 50%. If it's NA, there wasn't any data for that drug after cleaning. This is an easy, descriptive potency summary. It's not the inferential test, because many drugs (including comparators) can also cross 50% at some dose, the fraction can \"saturate\" at 1.00. That's why we also compare the full distributions with a rank test."
   ]
  },
  {
   "cell_type": "markdown",
   "id": "2d68d8c7-0f31-4549-833b-eae2a0bff915",
   "metadata": {},
   "source": [
    "<p style=\"font-size:18px;\"> B) Mann-Whitney Test </p>"
   ]
  },
  {
   "cell_type": "markdown",
   "id": "4793184c-77a5-488b-a306-f55a3aede2dc",
   "metadata": {},
   "source": [
    "<p style=\"font-size:18px;\"> This test asks: Does one group tend to give different values than the other? Here, we ask whether targeted drugs produce lower viabilities than comparators. Instead of comparing means (like the independent samples t-test), the Mann-Whitney U test compares the ranks of all observations:\n",
    "\n",
    "1) We put the two samples together and rank all values (lowest to highest).  \n",
    "2) We then add up the rank sums for each group.  \n",
    "3) If one group systematically has lower values, its rank sum will be smaller -> the test statistic $U$ reflects that difference.  \n",
    "4) The p-value tells us how likely we'd see a rank difference this large if, in truth, the two groups came from the same distribution."
   ]
  },
  {
   "cell_type": "markdown",
   "id": "1820a6e4-af79-49b2-b8d1-0847db2ae952",
   "metadata": {},
   "source": [
    "<p style=\"font-size:18px;\">We have two independent groups: targeted viabilities $X_1,\\dots,X_{n_x}$ and comparator viabilities $Y_1,\\dots,Y_{n_y}$. Lower viability means stronger drug effect.</p> \n",
    "\n",
    "<p style=\"font-size:18px;\">Step 1 - rank everything together. Pool all $N=n_x+n_y$ values and rank them from smallest to largest (use average ranks for ties). Let $R_i$ be the pooled rank of $X_i$.</p> \n",
    "\n",
    "<p style=\"font-size:18px;\">Step 2 - compute a rank sum and $U$. The targeted rank sum is $R_X=\\sum_{i=1}^{n_x} R_i$. Convert it to the U-statistic with $U_X = R_X - \\dfrac{n_x(n_x+1)}{2}.$ (You can also get the other group’s value by $U_Y = n_x n_y - U_X$.)</p> \n",
    "\n",
    "<p style=\"font-size:18px;\">Step 3 - standardize to a Z-score (quick large-sample version, no tie correction): $\\mathbb{E}[U_X]=\\dfrac{n_x n_y}{2},\\quad \\mathrm{SD}(U_X)=\\sqrt{\\dfrac{n_x n_y (n_x+n_y+1)}{12}},\\quad Z=\\dfrac{U_X-\\mathbb{E}[U_X]}{\\mathrm{SD}(U_X)}.$</p> \n",
    "\n",
    "<p style=\"font-size:18px;\">Step 4 - pick the tail that matches our claim. Here we expect targeted to be smaller than comparator, so targeted should get smaller ranks and a smaller $U_X$. Use the one-sided p-value $p=\\Phi(Z)$ (smaller, more negative $Z$ gives a smaller $p$). For a two-sided check, use $p = 2\\min\\{\\Phi(Z),\\,1-\\Phi(Z)\\}.$</p> "
   ]
  },
  {
   "cell_type": "markdown",
   "id": "a0eeafbd-2284-4cd7-a901-21a9865b7c6c",
   "metadata": {},
   "source": [
    "#### 5.3.3. Tests Performance"
   ]
  },
  {
   "cell_type": "markdown",
   "id": "acd52b21-2e1c-4f04-9803-f342b513064c",
   "metadata": {},
   "source": [
    "<p style=\"font-size:18px;\"> Now I present fraction-below-threshold comparisons and targeted vs comparator testing in code.<br>\n",
    "The function <code>frac_below()</code> takes: </p>\n",
    "<ul>\n",
    "  <li><b>df</b> – cleaned drug dataframe.</li>\n",
    "  <li><b>drugs</b> – list of drug names to evaluate.</li>\n",
    "  <li><b>thresh</b> – viability cutoff (default 50%).</li>\n",
    "</ul>\n",
    "<p style=\"font-size:18px;\">The function <code>mannwhitney_targeted_vs_comparators()</code> takes: </p>\n",
    "<ul>\n",
    "  <li><b>df</b> – cleaned drug dataframe.</li>\n",
    "  <li><b>targeted</b> – list of HER2-targeted drugs.</li>\n",
    "  <li><b>comparators</b> – list of non-targeted controls.</li>\n",
    "  <li><b>alternative</b> – 'two-sided' | 'less' | 'greater' (default 'two-sided').</li>\n",
    "</ul>"
   ]
  },
  {
   "cell_type": "code",
   "execution_count": 45,
   "id": "4761b00f-2791-4ccb-9041-e02d50ea3b95",
   "metadata": {},
   "outputs": [
    {
     "data": {
      "text/plain": [
       "({'afatinib': 1.0, 'lapatinib': 1.0, 'tucatinib': nan},\n",
       " {'plx-4720': 1.0, 'doxorubicin': 1.0, 'paclitaxel': 1.0},\n",
       " {'u_stat': 1399211548.0,\n",
       "  'p_value': 1.9042841595584433e-209,\n",
       "  'n_targeted': 57986,\n",
       "  'n_comp': 53945})"
      ]
     },
     "execution_count": 45,
     "metadata": {},
     "output_type": "execute_result"
    }
   ],
   "source": [
    "targeted = [\"afatinib\", \"lapatinib\", \"tucatinib\"]\n",
    "comparators = [\"plx-4720\", \"doxorubicin\", \"paclitaxel\"]\n",
    "\n",
    "targ_frac = s.frac_below(drug_data_clean, targeted, thresh=50)\n",
    "comp_frac = s.frac_below(drug_data_clean, comparators, thresh=50)\n",
    "res_u = s.mannwhitney_targeted_vs_comparators(drug_data_clean, targeted, comparators, \"less\")\n",
    "targ_frac, comp_frac, res_u"
   ]
  },
  {
   "cell_type": "markdown",
   "id": "7a8c3a8b-1f7d-4f2f-987c-5e38eaad04b6",
   "metadata": {},
   "source": [
    "<p style=\"font-size:18px;\"> The fraction‐sensitivity metric shows that afatinib and lapatinib each achieved 100% of measurements below 50% viability, while tucatinib lacked sufficient data to compute this metric. Interestingly, our comparator drugs (PLX-4720, doxorubicin, and paclitaxel) also each showed 100% of measurements under the 50% threshold - indicating that at least one dose for each compound drove median viability below this cutoff. </p>"
   ]
  },
  {
   "cell_type": "markdown",
   "id": "9a3b4173-505d-4043-b8d3-d17591c6a513",
   "metadata": {},
   "source": [
    "<p style=\"font-size:18px;\"> Despite these uniform fractions, the Mann-Whitney U test comparing the full viability distributions of the targeted versus comparator groups yields a p-value of $1.90 \\times 10^{-209}$, demonstrating an extremely significant difference between the two sets of curves. This result confirms that the overall viability profiles for HER2-targeted inhibitors differ markedly from those of non-targeted agents, supporting our hypothesis that targeted drugs reduce cancer cell viability more potently than general chemotherapies. </p>"
   ]
  },
  {
   "cell_type": "markdown",
   "id": "d5f69374-b024-44f0-8e07-2957eb674dad",
   "metadata": {},
   "source": [
    "### 5.4. Association of HER2 Status with HER2 Pathway Activity"
   ]
  },
  {
   "cell_type": "markdown",
   "id": "019ad96c-e961-4e49-83b4-d7f30aa580a3",
   "metadata": {},
   "source": [
    "<p style=\"font-size:18px;\"> To formally test whether HER2-positive tumors exhibit higher HER2 pathway activation, we compare pp_HER2 levels between HER2-positive and HER2-negative cases in the mutations_data_clean dataset using the Mann-Whitney U test (non-parametric, one-sided alternative = \"greater\").</p>"
   ]
  },
  {
   "cell_type": "markdown",
   "id": "f1abb0c7-40d1-4a85-87cc-c3b5d0f0fda0",
   "metadata": {},
   "source": [
    "#### 5.4.1. Hypotheses"
   ]
  },
  {
   "cell_type": "markdown",
   "id": "d5da0d5c-20a2-43ef-8dc6-7fd486eee7f2",
   "metadata": {},
   "source": [
    "<p style=\"font-size:18px;\"> Hypothesis ($H_3$): HER2-positive tumors show higher HER2 pathway activity (pp_HER2) than HER2-negative tumors, reflecting biological concordance between label and signaling.\n",
    "Null Hypothesis ($H_0$): The pathway activity distributions are equal between HER2-positive and HER2-negative groups.\n",
    "Direction: One-sided expectation: HER2+ > HER2− in pathway activity. </p>"
   ]
  },
  {
   "cell_type": "markdown",
   "id": "36be3862-19d3-4db8-b50d-1c20e750692f",
   "metadata": {},
   "source": [
    "#### 5.4.2. Chosen metrics and tests"
   ]
  },
  {
   "cell_type": "markdown",
   "id": "35fc741a-89ce-40b9-a593-18f316c730ab",
   "metadata": {},
   "source": [
    "<p style=\"font-size:18px;\">We use the Mann-Whitney U test to compare ppHER2 between HER2+ and HER2- tumors (one-sided, HER2+ > HER2−). The test reports $U$ and a p-value based on pooled ranks; we also show group medians for context.</p> "
   ]
  },
  {
   "cell_type": "markdown",
   "id": "6daa3019-d954-4332-9021-9e1d09aac807",
   "metadata": {},
   "source": [
    "<p style=\"font-size:18px;\">We compare HER2+ to HER2− tumors on ppHER2 using a one-sided Mann–Whitney U test (HER2+ > HER2−). The method uses ranks (not means), needs only independent groups with ordinal data, and yields $U$ and a p-value; larger HER2+ ranks indicate higher pathway activity.</p>"
   ]
  },
  {
   "cell_type": "markdown",
   "id": "9f805a73-d2e3-4222-af80-2af3ef32caf5",
   "metadata": {},
   "source": [
    "#### 5.4.3. Tests Performance"
   ]
  },
  {
   "cell_type": "markdown",
   "id": "ba3de6a6-5828-4798-8f42-f88136e9ba59",
   "metadata": {},
   "source": [
    "<p style=\"font-size:18px;\"> Now I present HER2 status vs pathway testing in code.<br>\n",
    "The function <code>mwu_status_vs_signal()</code> takes: </p>\n",
    "<ul>\n",
    "  <li><b>df</b> – cleaned tumor dataframe.</li>\n",
    "  <li><b>signal_col</b> – pathway signal column (e.g., <code>pp_her2</code>).</li>\n",
    "  <li><b>alternative</b> – 'greater' | 'less' | 'two-sided' (default 'greater' tests HER2+ > HER2−).</li>\n",
    "</ul>"
   ]
  },
  {
   "cell_type": "code",
   "execution_count": 46,
   "id": "c8837431-31b8-47af-9f01-1a0141e79e90",
   "metadata": {},
   "outputs": [
    {
     "data": {
      "text/plain": [
       "{'u_stat': 29627.0,\n",
       " 'p_value': 4.809019626801056e-24,\n",
       " 'median_pos': 1.880747558125,\n",
       " 'median_neg': -0.1542867435}"
      ]
     },
     "execution_count": 46,
     "metadata": {},
     "output_type": "execute_result"
    }
   ],
   "source": [
    "res_status = s.mwu_status_vs_signal(mutations_data_clean, signal_col, alternative=\"greater\")\n",
    "res_status"
   ]
  },
  {
   "cell_type": "markdown",
   "id": "520603af-5b08-4a1d-8632-5aa9a524cdba",
   "metadata": {},
   "source": [
    "<p style=\"font-size:18px;\"> The test yielded a U statistic of 29627 with a p-value of $4.81 \\times 10^{-24}$, providing extremely strong evidence that HER2-positive tumors have higher HER2 pathway activity than HER2-negative tumors. The median pp_HER2 signal for HER2-positive cases is substantially greater than for HER2-negative cases. </p>"
   ]
  },
  {
   "cell_type": "markdown",
   "id": "6d926f54-ead6-4c8d-bd29-a5b5010c9813",
   "metadata": {},
   "source": [
    "<p style=\"font-size:18px;\"> This result directly confirms the first part of our hypothesis - that HER2 status corresponds to elevated pathway activation - and complements our earlier exploratory visualizations with a robust statistical validation. </p>"
   ]
  },
  {
   "cell_type": "markdown",
   "id": "e1577aac-3300-4210-86e2-d98ea36830b1",
   "metadata": {},
   "source": [
    "## 6. Narrative Synthesis"
   ]
  },
  {
   "cell_type": "markdown",
   "id": "2514c579-336c-45e4-9034-4f17e477dfb8",
   "metadata": {},
   "source": [
    "<p style=\"font-size:18px;\"> In this project, we hypothesized that HER2-positive tumors exhibit elevated HER2 pathway activity, and that HER2-targeted drugs reduce cancer cell viability more effectively than non-targeted agents. To explore this, we analyzed two complementary datasets: molecular profiles of breast cancer patients from TCGA (mutations.csv), and in vitro drug response data from GDSC (drug-sensitivity.csv). </p>"
   ]
  },
  {
   "cell_type": "markdown",
   "id": "89527635-f00d-4d44-96c7-fe85fed311aa",
   "metadata": {},
   "source": [
    "<p style=\"font-size:18px;\"> Our exploratory analysis confirmed strong alignment between clinical HER2 status and measured HER2 pathway signal (pp_HER2). Tumors labeled HER2-positive showed significantly higher pathway activity, especially when stratified by ER/PR receptor status, reinforcing the consistency between clinical annotation and molecular phenotype. </p>"
   ]
  },
  {
   "cell_type": "markdown",
   "id": "3e434110-6907-4056-8100-93c53a4f3413",
   "metadata": {},
   "source": [
    "<p style=\"font-size:18px;\"> Drug-wise, we found that HER2-targeted agents (like afatinib, lapatinib) achieved lower viability values at lower doses compared to off-target comparators such as PLX-4720. This was reflected in ECDF curves, median response trajectories, and violin plots of viability, all suggesting stronger efficacy of HER2 inhibitors. </p>"
   ]
  },
  {
   "cell_type": "markdown",
   "id": "5c175576-7fac-4ee2-80b6-bd0e7fb72ce8",
   "metadata": {},
   "source": [
    "<p style=\"font-size:18px;\"> Statistical tests further validated these insights. Directly addressing the first part of our hypothesis, HER2-positive tumors showed substantially higher HER2 pathway activity than HER2-negative tumors (Mann-Whitney U p = $4.81 \\times 10^{-24}$). On the tumor side, high pp_HER2 was also associated with better survival (p = 0.031, OR = 0.54), likely reflecting treatment response rather than tumor aggressiveness. On the drug side, viability distributions between targeted and non-targeted groups were significantly different (Mann-Whitney U p = $1.90 \\times 10^{-209}$), confirming that HER2 inhibitors produce stronger functional effects in vitro. </p> "
   ]
  },
  {
   "cell_type": "markdown",
   "id": "5ca18f65-a22b-4e31-9edd-d2884704fadc",
   "metadata": {},
   "source": [
    "<p style=\"font-size:18px;\"> Together, these findings support the idea that HER2 signaling is both a biological marker and a predictive indicator for treatment efficacy. Even though the datasets are independent, their agreement strengthens the translational relevance of HER2 pathway activity - from molecular signal to clinical outcome and pharmacologic sensitivity. </p>"
   ]
  },
  {
   "cell_type": "markdown",
   "id": "ce6771e4-62c0-4cee-95ff-e07ded120975",
   "metadata": {},
   "source": [
    "## 7. Limitations & Next Steps"
   ]
  },
  {
   "cell_type": "markdown",
   "id": "f5947469-6f44-4e9e-b83f-7ee7c9eb2f3c",
   "metadata": {},
   "source": [
    "<p style=\"font-size:18px;\"> We begin with the question of dataset independence - the mutation dataset (mutations.csv) and the drug sensitivity dataset (drug-sensitivity.csv) originate from different studies and cohorts. As a result, patient‐level linkage is not possible, and cross‐analysis relies on comparing trends across independent datasets rather than matched samples. To add, HER2‐positive cases are underrepresented compared to HER2‐negative cases. This may limit statistical power and potentially bias effect size estimates. Also, the current analysis focuses primarily on HER2 phosphorylation (pp_HER2 or pp_HER2.pY1248). Other relevant signaling markers (like downstream kinases, alternative HER family members) were excluded to streamline the pipeline but could provide a more complete picture. Only a subset of drugs with the highest measurement counts were included for detailed analysis. Rarely tested compounds may still hold biological relevance but could not be robustly assessed. The drug sensitivity metric (viability fraction) measures in vitro cell survival at given doses, which may not fully capture clinical response complexity. </p>"
   ]
  },
  {
   "cell_type": "markdown",
   "id": "7b270ac8-fa4b-4913-9a42-209563a64ff9",
   "metadata": {},
   "source": [
    "<p style=\"font-size:18px;\"> Next steps may include: leveraging datasets where molecular profiling and drug sensitivity are measured on the same cell lines or patient‐derived organoids. We may include related receptor tyrosine kinases (like EGFR, HER3) and downstream signaling nodes (AKT, MAPK) to assess pathway cross‐talk. It is possible to fit sigmoidal or logistic dose-response models to estimate IC50 values for targeted vs comparator drugs, enabling a more quantitative potency comparison. With access to progression‐free survival and treatment history, we can explore whether HER2 pathway activity predicts clinical outcomes under HER2‐targeted therapy. Additional exploratory analysis of other proteomic features (pp_* variables) could uncover related pathway activity differences beyond HER2. </p>"
   ]
  },
  {
   "cell_type": "markdown",
   "id": "26011b44-615b-4747-aadf-c51cbe2c765b",
   "metadata": {},
   "source": [
    "## References"
   ]
  },
  {
   "cell_type": "markdown",
   "id": "0f3f6146-93ad-4820-8e50-02c73cbdc778",
   "metadata": {},
   "source": [
    "1. Viability dataset - https://depmap.org/portal/data_page/?tab=allData&releasename=Sanger+GDSC1+and+GDSC2&filename=sanger-viability.csv\n",
    "\n",
    "2. Mutation dataset - https://www.kaggle.com/datasets/samdemharter/brca-multiomics-tcga\n",
    "\n",
    "3. Phosphorylation - https://sciencenotes.org/phosphorylation-oxidative-protein-and-glucose\n",
    "\n",
    "4. HER2 - https://www.puls.bg/aktualno-c-6/pri-koi-vidove-rak-e-vazhno-izsledvaneto-za-her2-tumoren-marker-n-50821\n",
    "\n",
    "5. HER2+ BC - https://www.mayoclinic.org/diseases-conditions/breast-cancer/expert-answers/breast-cancer/faq-20058066\n",
    "\n",
    "6. Breast Cancer - https://my.clevelandclinic.org/health/diseases/3986-breast-cancer\n",
    "\n",
    "7. Hypergeometric Distribution - https://www.britannica.com/topic/hypergeometric-distribution\n",
    "\n",
    "8. Mann-Whitney Test - https://datatab.net/tutorial/mann-whitney-u-test\n",
    "\n",
    "9. Cancer drugs - https://www.nejm.org/doi/full/10.1056/NEJMoa1914609\n",
    "\n",
    "10. Fisher's Test - https://statisticsbyjim.com/hypothesis-testing/fishers-exact-test/"
   ]
  }
 ],
 "metadata": {
  "kernelspec": {
   "display_name": "Python 3 (ipykernel)",
   "language": "python",
   "name": "python3"
  },
  "language_info": {
   "codemirror_mode": {
    "name": "ipython",
    "version": 3
   },
   "file_extension": ".py",
   "mimetype": "text/x-python",
   "name": "python",
   "nbconvert_exporter": "python",
   "pygments_lexer": "ipython3",
   "version": "3.13.2"
  }
 },
 "nbformat": 4,
 "nbformat_minor": 5
}
